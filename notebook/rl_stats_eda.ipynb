{
 "metadata": {
  "language_info": {
   "codemirror_mode": {
    "name": "ipython",
    "version": 3
   },
   "file_extension": ".py",
   "mimetype": "text/x-python",
   "name": "python",
   "nbconvert_exporter": "python",
   "pygments_lexer": "ipython3",
   "version": "3.7.9-final"
  },
  "orig_nbformat": 2,
  "kernelspec": {
   "name": "python3",
   "display_name": "Python 3"
  }
 },
 "nbformat": 4,
 "nbformat_minor": 2,
 "cells": [
  {
   "cell_type": "code",
   "execution_count": 33,
   "metadata": {},
   "outputs": [],
   "source": [
    "# rl-stats-eda notebook\n",
    "# Import statements\n",
    "import os\n",
    "import sys\n",
    "sys.path.insert(0, os.path.abspath('../src'))\n",
    "import json\n",
    "import scraper as s\n",
    "import numpy as np\n",
    "import pandas as pd\n",
    "from pymongo import MongoClient\n",
    "from pymongo.errors import DuplicateKeyError\n",
    "\n",
    "# Define MongoDB database and collection\n",
    "db_client = MongoClient('localhost', 27017)\n",
    "db = db_client['rocket_league']\n",
    "rl_replays = db['rl_replays']"
   ]
  },
  {
   "cell_type": "code",
   "execution_count": 6,
   "metadata": {},
   "outputs": [
    {
     "output_type": "execute_result",
     "data": {
      "text/plain": [
       "200"
      ]
     },
     "metadata": {},
     "execution_count": 6
    }
   ],
   "source": [
    "s.ping_api()"
   ]
  },
  {
   "cell_type": "code",
   "execution_count": 9,
   "metadata": {
    "tags": []
   },
   "outputs": [],
   "source": [
    "data = {\n",
    "        'pro': True,\n",
    "    }\n",
    "\n",
    "one = s.get_replay_list(data)"
   ]
  },
  {
   "cell_type": "code",
   "execution_count": 10,
   "metadata": {
    "tags": []
   },
   "outputs": [
    {
     "output_type": "execute_result",
     "data": {
      "text/plain": [
       "'82254841-9717-4b15-b8f9-06ffd27ea5ad'"
      ]
     },
     "metadata": {},
     "execution_count": 10
    }
   ],
   "source": [
    "one_replay_id = one[\"list\"][0][\"id\"]\n",
    "one_replay_id"
   ]
  },
  {
   "cell_type": "code",
   "execution_count": 11,
   "metadata": {},
   "outputs": [],
   "source": [
    "one_replay_document = s.get_specific_replay(one_replay_id)"
   ]
  },
  {
   "cell_type": "code",
   "execution_count": 12,
   "metadata": {},
   "outputs": [
    {
     "output_type": "execute_result",
     "data": {
      "text/plain": [
       "dict_keys(['id', 'link', 'created', 'uploader', 'status', 'rocket_league_id', 'match_guid', 'title', 'map_code', 'match_type', 'team_size', 'playlist_id', 'duration', 'overtime', 'season', 'date', 'visibility', 'blue', 'orange', 'playlist_name', 'map_name'])"
      ]
     },
     "metadata": {},
     "execution_count": 12
    }
   ],
   "source": [
    "one_replay_document.keys()"
   ]
  },
  {
   "cell_type": "code",
   "execution_count": 13,
   "metadata": {},
   "outputs": [
    {
     "output_type": "stream",
     "name": "stdout",
     "text": [
      "0\n82254841-9717-4b15-b8f9-06ffd27ea5ad\n1\n21d0ca9b-309c-45b7-9828-84dc99383c97\n2\n73ed44ce-fee2-4316-bb38-4181f08e4169\n3\ncc65c42d-fcee-4eab-bd7d-d1d569ecf4d4\n4\naaace450-320a-4a49-8bbc-4e2549570fe6\n5\n73966e75-2bf4-407c-b5c1-19649c3c503c\n6\nf446acad-3328-4569-92f9-748c80f798de\n7\nb314bef4-234a-41c6-8149-769a4983e8d0\n8\na2259074-f78c-44d1-8428-49e068888a1d\n9\n34008e57-9f7f-4145-b5d5-30a5c7de6797\n10\n941d5d79-fd06-41d6-be0c-133614ca8ca4\n11\nba19c728-235a-4385-9aa8-da0ef1797900\n12\n59d1d7e4-48ae-42e4-9846-10231365c485\n13\n5e917324-6870-4ac9-8bf9-6c937b175a22\n14\n2c2d0bf8-2fc4-4c95-933a-cb825cd1f03c\n15\n949611bf-43d9-4fd1-b69d-94dd1f2927ff\n16\n720199ff-691d-48bb-b6b4-2570a1223878\n17\n5d51acbf-1205-4558-9dbd-22a983eca33c\n18\nbcc8ba17-d595-403f-8cc9-bee812cf6d39\n19\n0a630490-b06b-41aa-b166-2387ecc8574e\n20\n2d09b7b0-9480-475e-88b0-138971cd717d\n21\nf2b04bd6-c75a-4a97-9cc7-590cb2c9f077\n22\ndcd67fb2-673f-465c-be59-23fde28eba62\n23\n0787b19e-ce51-4aa8-88ff-8e04a094fc35\n24\nc2240043-d483-4f71-afb4-3f85707491f3\n25\n1780856c-4c56-44c4-a7c5-b3a10593aabd\n26\n1b1422d1-73c1-4c73-b80c-b1f1b45c6374\n27\n57ce56f2-ddd5-4410-be6b-d38b5d3d7a58\n28\nce4da0a6-c349-4573-ae84-65e6d0c2c94c\n29\nce1c13d5-92d2-4b2e-a2ea-72a31eab1d25\n30\nfdbca78a-1ac9-4f3a-89b5-3ac820752490\n31\n89bb5e8c-d73f-450d-8c74-cd82b190ea5a\n32\n1ca22812-2727-49a5-a2cc-9483dbfbf1ce\n33\nfd17fe2f-3c59-495b-bd3f-b81aca2969e1\n34\n674d28a5-dbb5-4d29-8b11-06e8c9fbfd46\n35\n228b1831-5e1d-4f3c-a787-a6b363c27be9\n36\nc646805d-d45b-4d5d-a4cb-8cc7f88c3a75\n37\n08f8526c-c9de-4bf6-9f65-cf6e1aa81400\n38\n32a1f3ac-b12a-4263-856b-d72cb9d978ae\n39\n7ac4bc89-9773-4c9f-929a-8f96eeecabd1\n40\n436ca8d8-1ea5-46fb-bfda-ffdf3c2f8225\n41\nfe7ff595-c4d8-4781-8185-5a1285b988ac\n42\n726189d2-4eae-4144-be1e-af7b26a9099b\n43\nf18defb4-b4c4-4804-9652-7dafb772ca99\n44\n84a2c1dc-a9b5-46b4-ab8c-d3fec7a05843\n45\ndeb73154-c7c3-49a6-8ace-6fd661f8ba94\n46\n4472bdaa-a011-410e-9098-2ad53f7d4289\n47\nd0164cb5-1fb9-4ca3-b865-58aadee0a032\n48\n4591dce2-fc1e-454b-8004-31e620ca4947\n49\n0cc8a4bd-b8a9-47ec-b2d0-92d2b3e26cb5\n"
     ]
    }
   ],
   "source": [
    "tmp = []\n",
    "\n",
    "for i,rep_id in enumerate(one[\"list\"]):\n",
    "    #print(f'{i}  {rep_id}'')\n",
    "    print(i)\n",
    "    print(one[\"list\"][i][\"id\"])\n",
    "    tmp.append(one[\"list\"][i][\"id\"])\n",
    "\n",
    "\n",
    "#one[\"list\"][2][\"id\"]"
   ]
  },
  {
   "cell_type": "code",
   "execution_count": 15,
   "metadata": {},
   "outputs": [
    {
     "output_type": "execute_result",
     "data": {
      "text/plain": [
       "50"
      ]
     },
     "metadata": {},
     "execution_count": 15
    }
   ],
   "source": [
    "len(tmp)"
   ]
  },
  {
   "source": [
    "### Mongo Testing"
   ],
   "cell_type": "markdown",
   "metadata": {}
  },
  {
   "cell_type": "code",
   "execution_count": 24,
   "metadata": {},
   "outputs": [
    {
     "output_type": "execute_result",
     "data": {
      "text/plain": [
       "15703"
      ]
     },
     "metadata": {},
     "execution_count": 24
    }
   ],
   "source": [
    "db.rl_replays.count()"
   ]
  },
  {
   "cell_type": "code",
   "execution_count": 25,
   "metadata": {},
   "outputs": [],
   "source": [
    "test = db.rl_replays.find_one()\n",
    "test2 = db.rl_replays.find_one()"
   ]
  },
  {
   "cell_type": "code",
   "execution_count": 22,
   "metadata": {},
   "outputs": [
    {
     "output_type": "execute_result",
     "data": {
      "text/plain": [
       "dict_keys(['_id', 'id', 'link', 'created', 'uploader', 'status', 'rocket_league_id', 'match_guid', 'title', 'map_code', 'match_type', 'team_size', 'playlist_id', 'duration', 'overtime', 'season', 'date', 'visibility', 'blue', 'orange', 'playlist_name', 'map_name'])"
      ]
     },
     "metadata": {},
     "execution_count": 22
    }
   ],
   "source": [
    "test.keys()"
   ]
  },
  {
   "cell_type": "code",
   "execution_count": 26,
   "metadata": {},
   "outputs": [
    {
     "output_type": "execute_result",
     "data": {
      "text/plain": [
       "'\\nFOR NEW COLLECTION\\n\\n'"
      ]
     },
     "metadata": {},
     "execution_count": 26
    }
   ],
   "source": [
    "\"\"\"\n",
    "\n",
    "**FOR ONE ENTRY IN NEW COLLECTION**\n",
    "GAME STATS:\n",
    "replay_id\n",
    "\n",
    "PLAYER STATS:\n",
    "name, car_name, goals, demo_inflicted, demo_taken\n",
    "\n",
    "TEAM STATS:\n",
    "total_goals, total_demos_inflicted, total_demos_taken\n",
    "\n",
    "\"\"\""
   ]
  },
  {
   "cell_type": "code",
   "execution_count": 32,
   "metadata": {},
   "outputs": [
    {
     "output_type": "execute_result",
     "data": {
      "text/plain": [
       "1962"
      ]
     },
     "metadata": {},
     "execution_count": 32
    }
   ],
   "source": [
    "subset = db.rl_replays.count() // 8\n",
    "# all_replays = db.rl_replays.count()    # working with subset for now\n",
    "\n",
    "subset"
   ]
  },
  {
   "cell_type": "code",
   "execution_count": 60,
   "metadata": {},
   "outputs": [
    {
     "output_type": "execute_result",
     "data": {
      "text/plain": [
       "[{'start_time': 0,\n",
       "  'end_time': 351.87775,\n",
       "  'name': 'Labdoman',\n",
       "  'id': {'platform': 'epic', 'id': '29f70024c6264b53b21fed1d55484238'},\n",
       "  'mvp': True,\n",
       "  'car_id': 23,\n",
       "  'car_name': 'Octane',\n",
       "  'camera': {'fov': 110,\n",
       "   'height': 100,\n",
       "   'pitch': -3,\n",
       "   'distance': 310,\n",
       "   'stiffness': 0.75,\n",
       "   'swivel_speed': 5,\n",
       "   'transition_speed': 1.5},\n",
       "  'steering_sensitivity': 1.05,\n",
       "  'stats': {'core': {'shots': 3,\n",
       "    'shots_against': 4,\n",
       "    'goals': 2,\n",
       "    'goals_against': 2,\n",
       "    'saves': 1,\n",
       "    'assists': 1,\n",
       "    'score': 469,\n",
       "    'mvp': True,\n",
       "    'shooting_percentage': 66.666664},\n",
       "   'boost': {'bpm': 292,\n",
       "    'bcpm': 327.972,\n",
       "    'avg_amount': 57.34,\n",
       "    'amount_collected': 1825,\n",
       "    'amount_stolen': 465,\n",
       "    'amount_collected_big': 1477,\n",
       "    'amount_stolen_big': 319,\n",
       "    'amount_collected_small': 348,\n",
       "    'amount_stolen_small': 146,\n",
       "    'count_collected_big': 18,\n",
       "    'count_stolen_big': 4,\n",
       "    'count_collected_small': 31,\n",
       "    'count_stolen_small': 13,\n",
       "    'amount_overfill': 336,\n",
       "    'amount_overfill_stolen': 90,\n",
       "    'amount_used_while_supersonic': 171,\n",
       "    'time_zero_boost': 12.3,\n",
       "    'percent_zero_boost': 3.6840687,\n",
       "    'time_full_boost': 80.91,\n",
       "    'percent_full_boost': 24.233986,\n",
       "    'time_boost_0_25': 45.03,\n",
       "    'time_boost_25_50': 70.48,\n",
       "    'time_boost_50_75': 103.35,\n",
       "    'time_boost_75_100': 102.4,\n",
       "    'percent_boost_0_25': 14.016684,\n",
       "    'percent_boost_25_50': 21.938618,\n",
       "    'percent_boost_50_75': 32.170204,\n",
       "    'percent_boost_75_100': 31.874493},\n",
       "   'movement': {'avg_speed': 1415,\n",
       "    'total_distance': 462730,\n",
       "    'time_supersonic_speed': 17.99,\n",
       "    'time_boost_speed': 131.99,\n",
       "    'time_slow_speed': 199.37,\n",
       "    'time_ground': 245.95,\n",
       "    'time_low_air': 88.6,\n",
       "    'time_high_air': 14.8,\n",
       "    'time_powerslide': 4.87,\n",
       "    'count_powerslide': 34,\n",
       "    'avg_powerslide_duration': 0.14,\n",
       "    'avg_speed_percentage': 61.52174,\n",
       "    'percent_slow_speed': 57.068848,\n",
       "    'percent_boost_speed': 37.7816,\n",
       "    'percent_supersonic_speed': 5.149564,\n",
       "    'percent_ground': 70.40218,\n",
       "    'percent_low_air': 25.361387,\n",
       "    'percent_high_air': 4.236439},\n",
       "   'positioning': {'avg_distance_to_ball': 3265,\n",
       "    'avg_distance_to_ball_possession': 3124,\n",
       "    'avg_distance_to_ball_no_possession': 3457,\n",
       "    'avg_distance_to_mates': 3857,\n",
       "    'time_defensive_third': 145.6,\n",
       "    'time_neutral_third': 113.41,\n",
       "    'time_offensive_third': 90.34,\n",
       "    'time_defensive_half': 200.4,\n",
       "    'time_offensive_half': 148.95,\n",
       "    'time_behind_ball': 264.19,\n",
       "    'time_infront_ball': 85.16,\n",
       "    'time_most_back': 101.4,\n",
       "    'time_most_forward': 101.7,\n",
       "    'time_closest_to_ball': 105.9,\n",
       "    'time_farthest_from_ball': 117,\n",
       "    'percent_defensive_third': 41.677402,\n",
       "    'percent_offensive_third': 25.859453,\n",
       "    'percent_neutral_third': 32.463146,\n",
       "    'percent_defensive_half': 57.363678,\n",
       "    'percent_offensive_half': 42.636326,\n",
       "    'percent_behind_ball': 75.6233,\n",
       "    'percent_infront_ball': 24.3767,\n",
       "    'percent_most_back': 30.371103,\n",
       "    'percent_most_forward': 30.460958,\n",
       "    'percent_closest_to_ball': 31.718933,\n",
       "    'percent_farthest_from_ball': 35.04358},\n",
       "   'demo': {'inflicted': 0, 'taken': 0}}},\n",
       " {'start_time': 0,\n",
       "  'end_time': 351.87775,\n",
       "  'name': 'KAI',\n",
       "  'id': {'platform': 'steam', 'id': '76561198162446189'},\n",
       "  'car_id': 23,\n",
       "  'car_name': 'Octane',\n",
       "  'camera': {'fov': 110,\n",
       "   'height': 110,\n",
       "   'pitch': -4,\n",
       "   'distance': 290,\n",
       "   'stiffness': 0.5,\n",
       "   'swivel_speed': 3.5,\n",
       "   'transition_speed': 1.2},\n",
       "  'steering_sensitivity': 1,\n",
       "  'stats': {'core': {'shots': 3,\n",
       "    'shots_against': 4,\n",
       "    'goals': 1,\n",
       "    'goals_against': 2,\n",
       "    'saves': 0,\n",
       "    'assists': 1,\n",
       "    'score': 338,\n",
       "    'mvp': False,\n",
       "    'shooting_percentage': 33.333332},\n",
       "   'boost': {'bpm': 299,\n",
       "    'bcpm': 332.82416,\n",
       "    'avg_amount': 54.65,\n",
       "    'amount_collected': 1852,\n",
       "    'amount_stolen': 462,\n",
       "    'amount_collected_big': 1552,\n",
       "    'amount_stolen_big': 352,\n",
       "    'amount_collected_small': 300,\n",
       "    'amount_stolen_small': 110,\n",
       "    'count_collected_big': 17,\n",
       "    'count_stolen_big': 4,\n",
       "    'count_collected_small': 27,\n",
       "    'count_stolen_small': 11,\n",
       "    'amount_overfill': 172,\n",
       "    'amount_overfill_stolen': 68,\n",
       "    'amount_used_while_supersonic': 345,\n",
       "    'time_zero_boost': 37.69,\n",
       "    'percent_zero_boost': 11.288824,\n",
       "    'time_full_boost': 76.81,\n",
       "    'percent_full_boost': 23.00596,\n",
       "    'time_boost_0_25': 66.05,\n",
       "    'time_boost_25_50': 66.01,\n",
       "    'time_boost_50_75': 80.05,\n",
       "    'time_boost_75_100': 127.2,\n",
       "    'percent_boost_0_25': 19.465977,\n",
       "    'percent_boost_25_50': 19.454187,\n",
       "    'percent_boost_50_75': 23.591997,\n",
       "    'percent_boost_75_100': 37.487843},\n",
       "   'movement': {'avg_speed': 1392,\n",
       "    'total_distance': 455982,\n",
       "    'time_supersonic_speed': 31.59,\n",
       "    'time_boost_speed': 119.38,\n",
       "    'time_slow_speed': 200.31,\n",
       "    'time_ground': 217.19,\n",
       "    'time_low_air': 126.69,\n",
       "    'time_high_air': 7.39,\n",
       "    'time_powerslide': 2.98,\n",
       "    'count_powerslide': 20,\n",
       "    'avg_powerslide_duration': 0.15,\n",
       "    'avg_speed_percentage': 60.52174,\n",
       "    'percent_slow_speed': 57.02289,\n",
       "    'percent_boost_speed': 33.984287,\n",
       "    'percent_supersonic_speed': 8.992826,\n",
       "    'percent_ground': 61.82993,\n",
       "    'percent_low_air': 36.066273,\n",
       "    'percent_high_air': 2.1037946},\n",
       "   'positioning': {'avg_distance_to_ball': 2784,\n",
       "    'avg_distance_to_ball_possession': 2687,\n",
       "    'avg_distance_to_ball_no_possession': 2931,\n",
       "    'avg_distance_to_mates': 3783,\n",
       "    'time_defensive_third': 124.56,\n",
       "    'time_neutral_third': 126.18,\n",
       "    'time_offensive_third': 100.53,\n",
       "    'time_defensive_half': 183.36,\n",
       "    'time_offensive_half': 167.91,\n",
       "    'time_behind_ball': 231.49,\n",
       "    'time_infront_ball': 119.78,\n",
       "    'time_most_back': 68.5,\n",
       "    'time_most_forward': 152.2,\n",
       "    'goals_against_while_last_defender': 1,\n",
       "    'time_closest_to_ball': 140.4,\n",
       "    'time_farthest_from_ball': 86,\n",
       "    'percent_defensive_third': 35.459904,\n",
       "    'percent_offensive_third': 28.619013,\n",
       "    'percent_neutral_third': 35.92109,\n",
       "    'percent_defensive_half': 52.19916,\n",
       "    'percent_offensive_half': 47.800835,\n",
       "    'percent_behind_ball': 65.90087,\n",
       "    'percent_infront_ball': 34.099125,\n",
       "    'percent_most_back': 20.516968,\n",
       "    'percent_most_forward': 45.586605,\n",
       "    'percent_closest_to_ball': 42.05229,\n",
       "    'percent_farthest_from_ball': 25.75853},\n",
       "   'demo': {'inflicted': 0, 'taken': 0}}},\n",
       " {'start_time': 0,\n",
       "  'end_time': 351.87775,\n",
       "  'name': 'Squishy Nugget',\n",
       "  'id': {'platform': 'steam', 'id': '76561198149313118'},\n",
       "  'car_id': 4284,\n",
       "  'car_name': 'Fennec',\n",
       "  'camera': {'fov': 110,\n",
       "   'height': 100,\n",
       "   'pitch': 0,\n",
       "   'distance': 270,\n",
       "   'stiffness': 0.6,\n",
       "   'swivel_speed': 4.7,\n",
       "   'transition_speed': 1.2},\n",
       "  'steering_sensitivity': 1,\n",
       "  'stats': {'core': {'shots': 2,\n",
       "    'shots_against': 4,\n",
       "    'goals': 0,\n",
       "    'goals_against': 2,\n",
       "    'saves': 0,\n",
       "    'assists': 0,\n",
       "    'score': 148,\n",
       "    'mvp': False,\n",
       "    'shooting_percentage': 0},\n",
       "   'boost': {'bpm': 186,\n",
       "    'bcpm': 224.63834,\n",
       "    'avg_amount': 67.8,\n",
       "    'amount_collected': 1250,\n",
       "    'amount_stolen': 266,\n",
       "    'amount_collected_big': 974,\n",
       "    'amount_stolen_big': 170,\n",
       "    'amount_collected_small': 276,\n",
       "    'amount_stolen_small': 96,\n",
       "    'count_collected_big': 16,\n",
       "    'count_stolen_big': 3,\n",
       "    'count_collected_small': 27,\n",
       "    'count_stolen_small': 8,\n",
       "    'amount_overfill': 669,\n",
       "    'amount_overfill_stolen': 129,\n",
       "    'amount_used_while_supersonic': 26,\n",
       "    'time_zero_boost': 8.34,\n",
       "    'percent_zero_boost': 2.4979782,\n",
       "    'time_full_boost': 95.37,\n",
       "    'percent_full_boost': 28.56501,\n",
       "    'time_boost_0_25': 30.21,\n",
       "    'time_boost_25_50': 46.43,\n",
       "    'time_boost_50_75': 58.54,\n",
       "    'time_boost_75_100': 165.8,\n",
       "    'percent_boost_0_25': 10.037212,\n",
       "    'percent_boost_25_50': 15.426275,\n",
       "    'percent_boost_50_75': 19.449799,\n",
       "    'percent_boost_75_100': 55.08672},\n",
       "   'movement': {'avg_speed': 1340,\n",
       "    'total_distance': 441376,\n",
       "    'time_supersonic_speed': 8.72,\n",
       "    'time_boost_speed': 134.89,\n",
       "    'time_slow_speed': 207.73,\n",
       "    'time_ground': 249.31,\n",
       "    'time_low_air': 97.8,\n",
       "    'time_high_air': 4.24,\n",
       "    'time_powerslide': 3.22,\n",
       "    'count_powerslide': 19,\n",
       "    'avg_powerslide_duration': 0.17,\n",
       "    'avg_speed_percentage': 58.260868,\n",
       "    'percent_slow_speed': 59.125065,\n",
       "    'percent_boost_speed': 38.39301,\n",
       "    'percent_supersonic_speed': 2.4819264,\n",
       "    'percent_ground': 70.95774,\n",
       "    'percent_low_air': 27.835493,\n",
       "    'percent_high_air': 1.2067739},\n",
       "   'positioning': {'avg_distance_to_ball': 3486,\n",
       "    'avg_distance_to_ball_possession': 3580,\n",
       "    'avg_distance_to_ball_no_possession': 3365,\n",
       "    'avg_distance_to_mates': 3991,\n",
       "    'time_defensive_third': 167.27,\n",
       "    'time_neutral_third': 127.96,\n",
       "    'time_offensive_third': 56.12,\n",
       "    'time_defensive_half': 233.3,\n",
       "    'time_offensive_half': 118.04,\n",
       "    'time_behind_ball': 282.72,\n",
       "    'time_infront_ball': 68.62,\n",
       "    'time_most_back': 166.8,\n",
       "    'time_most_forward': 81.8,\n",
       "    'goals_against_while_last_defender': 1,\n",
       "    'time_closest_to_ball': 88.1,\n",
       "    'time_farthest_from_ball': 134.5,\n",
       "    'percent_defensive_third': 47.6078,\n",
       "    'percent_offensive_third': 15.972676,\n",
       "    'percent_neutral_third': 36.419525,\n",
       "    'percent_defensive_half': 66.402916,\n",
       "    'percent_offensive_half': 33.597084,\n",
       "    'percent_behind_ball': 80.46906,\n",
       "    'percent_infront_ball': 19.530941,\n",
       "    'percent_most_back': 49.959564,\n",
       "    'percent_most_forward': 24.500555,\n",
       "    'percent_closest_to_ball': 26.387516,\n",
       "    'percent_farthest_from_ball': 40.28514},\n",
       "   'demo': {'inflicted': 0, 'taken': 0}}}]"
      ]
     },
     "metadata": {},
     "execution_count": 60
    }
   ],
   "source": [
    "# get clean data from every replay\n",
    "\n",
    "t_curs = db.rl_replays.find({}, \n",
    "    {\"_id\": 0,\n",
    "    \"id\":1,\n",
    "    \"blue\":1})\n",
    "\n",
    "t_curs[0][\"blue\"][\"players\"]    # len 3\n",
    "\n",
    "for player in blue_players:\n",
    "    "
   ]
  },
  {
   "cell_type": "code",
   "execution_count": null,
   "metadata": {},
   "outputs": [],
   "source": []
  }
 ]
}