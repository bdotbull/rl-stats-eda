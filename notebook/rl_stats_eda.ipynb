{
 "metadata": {
  "language_info": {
   "codemirror_mode": {
    "name": "ipython",
    "version": 3
   },
   "file_extension": ".py",
   "mimetype": "text/x-python",
   "name": "python",
   "nbconvert_exporter": "python",
   "pygments_lexer": "ipython3",
   "version": "3.7.9-final"
  },
  "orig_nbformat": 2,
  "kernelspec": {
   "name": "python3",
   "display_name": "Python 3"
  }
 },
 "nbformat": 4,
 "nbformat_minor": 2,
 "cells": [
  {
   "cell_type": "code",
   "execution_count": 74,
   "metadata": {},
   "outputs": [],
   "source": [
    "# rl-stats-eda notebook\n",
    "# Import statements\n",
    "import os\n",
    "import sys\n",
    "sys.path.insert(0, os.path.abspath('../src'))\n",
    "import json\n",
    "import scraper as s\n",
    "import numpy as np\n",
    "import pandas as pd\n",
    "import matplotlib.pyplot as plt\n",
    "from pymongo import MongoClient\n",
    "from pymongo.errors import DuplicateKeyError\n",
    "%matplotlib inline\n",
    "#plt.style.use('ggplot')\n",
    "\n",
    "# Define MongoDB database and collection\n",
    "db_client = MongoClient('localhost', 27017)\n",
    "db = db_client['rocket_league']\n",
    "rl_replays = db['rl_replays']"
   ]
  },
  {
   "cell_type": "code",
   "execution_count": 2,
   "metadata": {},
   "outputs": [
    {
     "output_type": "execute_result",
     "data": {
      "text/plain": [
       "200"
      ]
     },
     "metadata": {},
     "execution_count": 2
    }
   ],
   "source": [
    "s.ping_api()"
   ]
  },
  {
   "cell_type": "code",
   "execution_count": 3,
   "metadata": {
    "tags": []
   },
   "outputs": [],
   "source": [
    "data = {\n",
    "        'pro': True,\n",
    "    }\n",
    "\n",
    "one = s.get_replay_list(data)"
   ]
  },
  {
   "cell_type": "code",
   "execution_count": 4,
   "metadata": {
    "tags": []
   },
   "outputs": [
    {
     "output_type": "execute_result",
     "data": {
      "text/plain": [
       "'ec445128-32a2-4ef6-9010-ace19906f27a'"
      ]
     },
     "metadata": {},
     "execution_count": 4
    }
   ],
   "source": [
    "one_replay_id = one[\"list\"][0][\"id\"]\n",
    "one_replay_id"
   ]
  },
  {
   "cell_type": "code",
   "execution_count": 5,
   "metadata": {},
   "outputs": [],
   "source": [
    "one_replay_document = s.get_specific_replay(one_replay_id)"
   ]
  },
  {
   "cell_type": "code",
   "execution_count": 6,
   "metadata": {},
   "outputs": [
    {
     "output_type": "execute_result",
     "data": {
      "text/plain": [
       "dict_keys(['id', 'link', 'created', 'uploader', 'status', 'rocket_league_id', 'match_guid', 'title', 'map_code', 'match_type', 'team_size', 'playlist_id', 'duration', 'overtime', 'season', 'date', 'visibility', 'blue', 'orange', 'playlist_name', 'map_name'])"
      ]
     },
     "metadata": {},
     "execution_count": 6
    }
   ],
   "source": [
    "one_replay_document.keys()"
   ]
  },
  {
   "cell_type": "code",
   "execution_count": 7,
   "metadata": {},
   "outputs": [
    {
     "output_type": "stream",
     "name": "stdout",
     "text": [
      "0\nec445128-32a2-4ef6-9010-ace19906f27a\n1\n6ff4bbc8-c733-464e-b578-a7dfb27963cd\n2\n3a9dcba3-06fa-405e-8dbd-9c5b0db714d0\n3\nd87ccaf0-fcf6-4fbd-9341-b6867dae67e1\n4\n777beb96-3b50-424f-9f7d-86af0c208aac\n5\n7529df22-a8fb-4af4-969d-90d569703d66\n6\n1e2b1080-9a75-4426-aea9-dab613ad2f1a\n7\n0a0897b5-6023-4c8d-ac7a-8ad6c74d6a88\n8\n95cad081-bf96-4764-9ba8-b5ae39c9453c\n9\n8657d11c-077e-4744-bd41-1e8bcec6da94\n10\n0b5b2f83-6b0d-489f-b6d9-6ac96971fd86\n11\nca439e89-f620-434a-adfd-2bcf80402ff1\n12\nc5007de9-d203-4166-be47-2b8429ff2e94\n13\n84527319-21e7-4305-b246-283d49a9ad10\n14\nbc85def3-8c3b-4f8b-8115-5bd0bb67146c\n15\n80c1ec7b-9fcd-4519-8111-c70886f0b89e\n16\n5b0b969e-c1c7-4645-a138-bcab7611b206\n17\n497100d4-91e3-4193-91db-acab7426dec6\n18\n99860d21-3c94-4498-a888-f52d0d053775\n19\n54f414d5-fcd7-4655-98b8-01c50119cd7e\n20\n788d56f8-02e8-4bc5-9127-ebf5e680aed3\n21\nd84b8a4c-8365-4973-b2ec-991ef20da2cc\n22\n7f6bd3d9-25cd-4c49-bfe5-09ca6e4aaf70\n23\n858b353f-6996-4522-9724-54129a9b7933\n24\nf820fefa-61f5-4785-bc28-f4ecfe3972ee\n25\nd0af2a86-7b2c-4ad3-9fcc-fcda242f2d42\n26\ne70c73de-40c6-492c-bae4-cf2d3ef24cf6\n27\nd4c1707e-ef9e-440c-af37-6b205bc4992d\n28\n1398d071-b808-4144-978f-eaef239992e9\n29\nc6a23f2a-1b51-40f6-8509-b5faa124016c\n30\na0826d40-d8c4-4668-9f76-0a060cb9ba5d\n31\n1c467bb9-56c9-4fd4-adda-aedc4653d194\n32\n61b63cfe-611f-4c6d-a349-db8e63082e6f\n33\nffc052db-6cd2-4dcb-90b4-58b7e787bb4b\n34\nf1dda9f8-4ff2-4f81-86de-c37b96a56cb8\n35\n91e86625-2232-47a4-a6bd-50ceca3ffb04\n36\nc6a77877-b89f-4204-8461-5b304acdad7b\n37\ne64b8870-97ff-48f3-aa79-7f60e7e387ec\n38\nf0f7ce6c-2a8d-492b-b19b-c24da18eae99\n39\n703cfbf5-fc46-4bb6-94a5-1bd587f98939\n40\nea40f363-8517-4eef-aad3-9b9326ae275a\n41\nfb1df189-072b-44d6-acbb-d1d1a3c92293\n42\nfa76ad05-9902-42d1-a847-d953f0c3174c\n43\nd82efb64-8876-4676-a84c-a022286d373c\n44\nc873c768-698d-4faf-ba12-ab3d07a2361c\n45\nf379fa3d-bb88-4111-b49f-404182f90d92\n46\n67e288c0-30e9-4a3a-a1b4-211005215dd0\n47\n64da5a19-bae6-415a-97e8-f9da26c1c7e2\n48\nb81069a2-d70a-44c9-9997-021cec49a5c1\n49\n58609dfb-d86c-4a8e-a4f1-46f3ce14a4bc\n"
     ]
    }
   ],
   "source": [
    "tmp = []\n",
    "\n",
    "for i,rep_id in enumerate(one[\"list\"]):\n",
    "    #print(f'{i}  {rep_id}'')\n",
    "    print(i)\n",
    "    print(one[\"list\"][i][\"id\"])\n",
    "    tmp.append(one[\"list\"][i][\"id\"])\n",
    "\n",
    "\n",
    "#one[\"list\"][2][\"id\"]"
   ]
  },
  {
   "cell_type": "code",
   "execution_count": 8,
   "metadata": {},
   "outputs": [
    {
     "output_type": "execute_result",
     "data": {
      "text/plain": [
       "50"
      ]
     },
     "metadata": {},
     "execution_count": 8
    }
   ],
   "source": [
    "len(tmp)"
   ]
  },
  {
   "source": [
    "### MongoDB Testing"
   ],
   "cell_type": "markdown",
   "metadata": {}
  },
  {
   "cell_type": "code",
   "execution_count": 12,
   "metadata": {},
   "outputs": [
    {
     "output_type": "execute_result",
     "data": {
      "text/plain": [
       "'\\nCurrently doing in memory, but would like to send data to collection\\n**FOR ONE ENTRY IN NEW COLLECTION**\\nGAME STATS:\\nreplay_id\\n\\nPLAYER STATS (initialized with mongo):\\nname, car_name, goals, demo_inflicted, demo_taken\\n \\n\\nTEAM STATS (created from PLAYER STATS in pandas):\\nblue_total_goals, blue_total_demos_inflicted, blue_total_demos_taken\\norange_total_goals, orange_total_demos_inflicted, orange_total_demos_taken\\n\\n'"
      ]
     },
     "metadata": {},
     "execution_count": 12
    }
   ],
   "source": [
    "\"\"\"\n",
    "Currently doing in memory, but would like to send data to collection\n",
    "**FOR ONE ENTRY IN NEW COLLECTION**\n",
    "GAME STATS:\n",
    "replay_id\n",
    "\n",
    "PLAYER STATS (initialized with mongo):\n",
    "name, car_name, goals, demo_inflicted, demo_taken\n",
    " \n",
    "\n",
    "TEAM STATS (created from PLAYER STATS in pandas):\n",
    "blue_total_goals, blue_total_demos_inflicted, blue_total_demos_taken\n",
    "orange_total_goals, orange_total_demos_inflicted, orange_total_demos_taken\n",
    "\n",
    "\"\"\""
   ]
  },
  {
   "cell_type": "code",
   "execution_count": 67,
   "metadata": {},
   "outputs": [
    {
     "output_type": "stream",
     "name": "stdout",
     "text": [
      "(162, 6)\n"
     ]
    },
    {
     "output_type": "execute_result",
     "data": {
      "text/plain": [
       "0"
      ]
     },
     "metadata": {},
     "execution_count": 67
    }
   ],
   "source": [
    "\"\"\"\n",
    "Get clean data from every replay\n",
    "\"\"\"\n",
    "\n",
    "df_cols = [\"blue_total_goals\",\n",
    "    \"blue_total_demos_inflicted\",\n",
    "    \"blue_total_demos_taken\",\n",
    "    \"orange_total_goals\",\n",
    "    \"orange_total_demos_inflicted\",\n",
    "    \"orange_total_demos_taken\"]\n",
    "\n",
    "r_data = np.zeros((db.rl_replays.count(), len(df_cols)))\n",
    "\n",
    "r_id = []\n",
    "\n",
    "\n",
    "print(r_data.shape)\n",
    "len(r_id)"
   ]
  },
  {
   "cell_type": "code",
   "execution_count": 68,
   "metadata": {},
   "outputs": [],
   "source": [
    "# get relevant info from database\n",
    "replay_cursor = db.rl_replays.find({}, \n",
    "    {\"_id\":1,\n",
    "    \"blue\":1,\n",
    "    \"orange\":1})\n"
   ]
  },
  {
   "cell_type": "code",
   "execution_count": 69,
   "metadata": {},
   "outputs": [
    {
     "output_type": "stream",
     "name": "stdout",
     "text": [
      "75\n"
     ]
    }
   ],
   "source": [
    "bad_data_row_nums = []\n",
    "\n",
    "for row,replay in enumerate(replay_cursor):\n",
    "    try:\n",
    "        r_id.append(str(replay['_id']))\n",
    "        # Get info for Blue Team\n",
    "        for player in replay[\"blue\"][\"players\"]:\n",
    "            r_data[row][0] += player[\"stats\"][\"core\"][\"goals\"]\n",
    "            r_data[row][1] += player[\"stats\"][\"demo\"][\"inflicted\"]\n",
    "            r_data[row][2] += player[\"stats\"][\"demo\"][\"taken\"]\n",
    "        # Get info for Orange Team\n",
    "        for player in replay[\"orange\"][\"players\"]:\n",
    "            r_data[row][3] += player[\"stats\"][\"core\"][\"goals\"]\n",
    "            r_data[row][4] += player[\"stats\"][\"demo\"][\"inflicted\"]\n",
    "            r_data[row][5] += player[\"stats\"][\"demo\"][\"taken\"]\n",
    "    except:\n",
    "        bad_data_row_nums.append(row)    # save bad rows for dropping later\n",
    "\n",
    "print(len(bad_data_row_nums))\n"
   ]
  },
  {
   "cell_type": "code",
   "execution_count": 83,
   "metadata": {},
   "outputs": [
    {
     "output_type": "stream",
     "name": "stdout",
     "text": [
      "first 5 of r_data.  Total length = 162\n[[4. 1. 4. 3. 4. 1.]\n [0. 1. 1. 5. 1. 1.]\n [7. 0. 0. 4. 0. 0.]\n [1. 1. 1. 2. 1. 1.]\n [2. 1. 6. 1. 6. 1.]]\n\nfirst 5 of r_id.  Total length = 162\n['5f99c559d3221fc02865826b', '5f99c55ad3221fc02865826c', '5f99c55ad3221fc02865826d', '5f99c55bd3221fc02865826e', '5f99c55bd3221fc02865826f']\n\nfirst 5 of bad_data_row_nums.  Total length = 75\n[18, 20, 22, 24, 26]\n"
     ]
    }
   ],
   "source": [
    "# quick entry/format check\n",
    "print(f'first 5 of r_data.  Total length = {len(r_data)}')\n",
    "print(r_data[:5])\n",
    "print(f'\\nfirst 5 of r_id.  Total length = {len(r_id)}')\n",
    "print(r_id[:5])\n",
    "print(f'\\nfirst 5 of bad_data_row_nums.  Total length = {len(bad_data_row_nums)}')\n",
    "print(bad_data_row_nums[:5])"
   ]
  },
  {
   "cell_type": "code",
   "execution_count": 94,
   "metadata": {},
   "outputs": [
    {
     "output_type": "stream",
     "name": "stdout",
     "text": [
      "<class 'pandas.core.frame.DataFrame'>\nInt64Index: 87 entries, 0 to 161\nData columns (total 6 columns):\n #   Column                        Non-Null Count  Dtype  \n---  ------                        --------------  -----  \n 0   blue_total_goals              87 non-null     float64\n 1   blue_total_demos_inflicted    87 non-null     float64\n 2   blue_total_demos_taken        87 non-null     float64\n 3   orange_total_goals            87 non-null     float64\n 4   orange_total_demos_inflicted  87 non-null     float64\n 5   orange_total_demos_taken      87 non-null     float64\ndtypes: float64(6)\nmemory usage: 4.8 KB\n"
     ]
    }
   ],
   "source": [
    "#df = pd.DataFrame(r_data, columns=df_cols, index=r_id)\n",
    "df = pd.DataFrame(r_data, columns=df_cols)\n",
    "df = df.drop(bad_data_row_nums)    # dropping rows that threw exception\n",
    "df.info()"
   ]
  },
  {
   "cell_type": "code",
   "execution_count": null,
   "metadata": {},
   "outputs": [],
   "source": []
  }
 ]
}