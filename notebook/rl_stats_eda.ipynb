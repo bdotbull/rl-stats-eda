{
 "metadata": {
  "language_info": {
   "codemirror_mode": {
    "name": "ipython",
    "version": 3
   },
   "file_extension": ".py",
   "mimetype": "text/x-python",
   "name": "python",
   "nbconvert_exporter": "python",
   "pygments_lexer": "ipython3",
   "version": "3.7.9-final"
  },
  "orig_nbformat": 2,
  "kernelspec": {
   "name": "python3",
   "display_name": "Python 3"
  }
 },
 "nbformat": 4,
 "nbformat_minor": 2,
 "cells": [
  {
   "cell_type": "code",
   "execution_count": 112,
   "metadata": {},
   "outputs": [],
   "source": [
    "# rl-stats-eda notebook\n",
    "# Import statements\n",
    "import os\n",
    "import sys\n",
    "sys.path.insert(0, os.path.abspath('../src'))\n",
    "import json\n",
    "import scraper as s\n",
    "import numpy as np\n",
    "import pandas as pd\n",
    "import matplotlib.pyplot as plt\n",
    "import scipy.stats as stats\n",
    "from pymongo import MongoClient\n",
    "from pymongo.errors import DuplicateKeyError\n",
    "%matplotlib inline\n",
    "#plt.style.use('ggplot')\n",
    "\n",
    "# Define MongoDB database and collection\n",
    "db_client = MongoClient('localhost', 27017)\n",
    "db = db_client['rocket_league']\n",
    "rl_replays = db['rl_replays']"
   ]
  },
  {
   "cell_type": "code",
   "execution_count": 2,
   "metadata": {},
   "outputs": [
    {
     "output_type": "execute_result",
     "data": {
      "text/plain": [
       "200"
      ]
     },
     "metadata": {},
     "execution_count": 2
    }
   ],
   "source": [
    "s.ping_api()"
   ]
  },
  {
   "cell_type": "code",
   "execution_count": 3,
   "metadata": {
    "tags": []
   },
   "outputs": [],
   "source": [
    "data = {\n",
    "        'pro': True,\n",
    "    }\n",
    "\n",
    "one = s.get_replay_list(data)"
   ]
  },
  {
   "cell_type": "code",
   "execution_count": 4,
   "metadata": {
    "tags": []
   },
   "outputs": [
    {
     "output_type": "execute_result",
     "data": {
      "text/plain": [
       "'ec445128-32a2-4ef6-9010-ace19906f27a'"
      ]
     },
     "metadata": {},
     "execution_count": 4
    }
   ],
   "source": [
    "one_replay_id = one[\"list\"][0][\"id\"]\n",
    "one_replay_id"
   ]
  },
  {
   "cell_type": "code",
   "execution_count": 5,
   "metadata": {},
   "outputs": [],
   "source": [
    "one_replay_document = s.get_specific_replay(one_replay_id)"
   ]
  },
  {
   "cell_type": "code",
   "execution_count": 6,
   "metadata": {},
   "outputs": [
    {
     "output_type": "execute_result",
     "data": {
      "text/plain": [
       "dict_keys(['id', 'link', 'created', 'uploader', 'status', 'rocket_league_id', 'match_guid', 'title', 'map_code', 'match_type', 'team_size', 'playlist_id', 'duration', 'overtime', 'season', 'date', 'visibility', 'blue', 'orange', 'playlist_name', 'map_name'])"
      ]
     },
     "metadata": {},
     "execution_count": 6
    }
   ],
   "source": [
    "one_replay_document.keys()"
   ]
  },
  {
   "cell_type": "code",
   "execution_count": 7,
   "metadata": {},
   "outputs": [
    {
     "output_type": "stream",
     "name": "stdout",
     "text": [
      "0\nec445128-32a2-4ef6-9010-ace19906f27a\n1\n6ff4bbc8-c733-464e-b578-a7dfb27963cd\n2\n3a9dcba3-06fa-405e-8dbd-9c5b0db714d0\n3\nd87ccaf0-fcf6-4fbd-9341-b6867dae67e1\n4\n777beb96-3b50-424f-9f7d-86af0c208aac\n5\n7529df22-a8fb-4af4-969d-90d569703d66\n6\n1e2b1080-9a75-4426-aea9-dab613ad2f1a\n7\n0a0897b5-6023-4c8d-ac7a-8ad6c74d6a88\n8\n95cad081-bf96-4764-9ba8-b5ae39c9453c\n9\n8657d11c-077e-4744-bd41-1e8bcec6da94\n10\n0b5b2f83-6b0d-489f-b6d9-6ac96971fd86\n11\nca439e89-f620-434a-adfd-2bcf80402ff1\n12\nc5007de9-d203-4166-be47-2b8429ff2e94\n13\n84527319-21e7-4305-b246-283d49a9ad10\n14\nbc85def3-8c3b-4f8b-8115-5bd0bb67146c\n15\n80c1ec7b-9fcd-4519-8111-c70886f0b89e\n16\n5b0b969e-c1c7-4645-a138-bcab7611b206\n17\n497100d4-91e3-4193-91db-acab7426dec6\n18\n99860d21-3c94-4498-a888-f52d0d053775\n19\n54f414d5-fcd7-4655-98b8-01c50119cd7e\n20\n788d56f8-02e8-4bc5-9127-ebf5e680aed3\n21\nd84b8a4c-8365-4973-b2ec-991ef20da2cc\n22\n7f6bd3d9-25cd-4c49-bfe5-09ca6e4aaf70\n23\n858b353f-6996-4522-9724-54129a9b7933\n24\nf820fefa-61f5-4785-bc28-f4ecfe3972ee\n25\nd0af2a86-7b2c-4ad3-9fcc-fcda242f2d42\n26\ne70c73de-40c6-492c-bae4-cf2d3ef24cf6\n27\nd4c1707e-ef9e-440c-af37-6b205bc4992d\n28\n1398d071-b808-4144-978f-eaef239992e9\n29\nc6a23f2a-1b51-40f6-8509-b5faa124016c\n30\na0826d40-d8c4-4668-9f76-0a060cb9ba5d\n31\n1c467bb9-56c9-4fd4-adda-aedc4653d194\n32\n61b63cfe-611f-4c6d-a349-db8e63082e6f\n33\nffc052db-6cd2-4dcb-90b4-58b7e787bb4b\n34\nf1dda9f8-4ff2-4f81-86de-c37b96a56cb8\n35\n91e86625-2232-47a4-a6bd-50ceca3ffb04\n36\nc6a77877-b89f-4204-8461-5b304acdad7b\n37\ne64b8870-97ff-48f3-aa79-7f60e7e387ec\n38\nf0f7ce6c-2a8d-492b-b19b-c24da18eae99\n39\n703cfbf5-fc46-4bb6-94a5-1bd587f98939\n40\nea40f363-8517-4eef-aad3-9b9326ae275a\n41\nfb1df189-072b-44d6-acbb-d1d1a3c92293\n42\nfa76ad05-9902-42d1-a847-d953f0c3174c\n43\nd82efb64-8876-4676-a84c-a022286d373c\n44\nc873c768-698d-4faf-ba12-ab3d07a2361c\n45\nf379fa3d-bb88-4111-b49f-404182f90d92\n46\n67e288c0-30e9-4a3a-a1b4-211005215dd0\n47\n64da5a19-bae6-415a-97e8-f9da26c1c7e2\n48\nb81069a2-d70a-44c9-9997-021cec49a5c1\n49\n58609dfb-d86c-4a8e-a4f1-46f3ce14a4bc\n"
     ]
    }
   ],
   "source": [
    "tmp = []\n",
    "\n",
    "for i,rep_id in enumerate(one[\"list\"]):\n",
    "    #print(f'{i}  {rep_id}'')\n",
    "    print(i)\n",
    "    print(one[\"list\"][i][\"id\"])\n",
    "    tmp.append(one[\"list\"][i][\"id\"])\n",
    "\n",
    "\n",
    "#one[\"list\"][2][\"id\"]"
   ]
  },
  {
   "cell_type": "code",
   "execution_count": 8,
   "metadata": {},
   "outputs": [
    {
     "output_type": "execute_result",
     "data": {
      "text/plain": [
       "50"
      ]
     },
     "metadata": {},
     "execution_count": 8
    }
   ],
   "source": [
    "len(tmp)"
   ]
  },
  {
   "source": [
    "### MongoDB Testing"
   ],
   "cell_type": "markdown",
   "metadata": {}
  },
  {
   "cell_type": "code",
   "execution_count": 12,
   "metadata": {},
   "outputs": [
    {
     "output_type": "execute_result",
     "data": {
      "text/plain": [
       "'\\nCurrently doing in memory, but would like to send data to collection\\n**FOR ONE ENTRY IN NEW COLLECTION**\\nGAME STATS:\\nreplay_id\\n\\nPLAYER STATS (initialized with mongo):\\nname, car_name, goals, demo_inflicted, demo_taken\\n \\n\\nTEAM STATS (created from PLAYER STATS in pandas):\\nblue_total_goals, blue_total_demos_inflicted, blue_total_demos_taken\\norange_total_goals, orange_total_demos_inflicted, orange_total_demos_taken\\n\\n'"
      ]
     },
     "metadata": {},
     "execution_count": 12
    }
   ],
   "source": [
    "\"\"\"\n",
    "Currently doing in memory, but would like to send data to collection\n",
    "**FOR ONE ENTRY IN NEW COLLECTION**\n",
    "GAME STATS:\n",
    "replay_id\n",
    "\n",
    "PLAYER STATS (initialized with mongo):\n",
    "name, car_name, goals, demo_inflicted, demo_taken\n",
    " \n",
    "\n",
    "TEAM STATS (created from PLAYER STATS in pandas):\n",
    "blue_total_goals, blue_total_demos_inflicted, blue_total_demos_taken\n",
    "orange_total_goals, orange_total_demos_inflicted, orange_total_demos_taken\n",
    "\n",
    "\"\"\""
   ]
  },
  {
   "cell_type": "code",
   "execution_count": 67,
   "metadata": {},
   "outputs": [
    {
     "output_type": "stream",
     "name": "stdout",
     "text": [
      "(162, 6)\n"
     ]
    },
    {
     "output_type": "execute_result",
     "data": {
      "text/plain": [
       "0"
      ]
     },
     "metadata": {},
     "execution_count": 67
    }
   ],
   "source": [
    "\"\"\"\n",
    "Get clean data from every replay\n",
    "\"\"\"\n",
    "\n",
    "df_cols = [\"blue_total_goals\",\n",
    "    \"blue_total_demos_inflicted\",\n",
    "    \"blue_total_demos_taken\",\n",
    "    \"orange_total_goals\",\n",
    "    \"orange_total_demos_inflicted\",\n",
    "    \"orange_total_demos_taken\"]\n",
    "\n",
    "r_data = np.zeros((db.rl_replays.count(), len(df_cols)))\n",
    "\n",
    "r_id = []\n",
    "\n",
    "\n",
    "print(r_data.shape)\n",
    "len(r_id)"
   ]
  },
  {
   "cell_type": "code",
   "execution_count": 68,
   "metadata": {},
   "outputs": [],
   "source": [
    "# get relevant info from database\n",
    "replay_cursor = db.rl_replays.find({}, \n",
    "    {\"_id\":1,\n",
    "    \"blue\":1,\n",
    "    \"orange\":1})\n"
   ]
  },
  {
   "cell_type": "code",
   "execution_count": 69,
   "metadata": {},
   "outputs": [
    {
     "output_type": "stream",
     "name": "stdout",
     "text": [
      "75\n"
     ]
    }
   ],
   "source": [
    "bad_data_row_nums = []\n",
    "\n",
    "for row,replay in enumerate(replay_cursor):\n",
    "    try:\n",
    "        r_id.append(str(replay['_id']))\n",
    "        # Get info for Blue Team\n",
    "        for player in replay[\"blue\"][\"players\"]:\n",
    "            r_data[row][0] += player[\"stats\"][\"core\"][\"goals\"]\n",
    "            r_data[row][1] += player[\"stats\"][\"demo\"][\"inflicted\"]\n",
    "            r_data[row][2] += player[\"stats\"][\"demo\"][\"taken\"]\n",
    "        # Get info for Orange Team\n",
    "        for player in replay[\"orange\"][\"players\"]:\n",
    "            r_data[row][3] += player[\"stats\"][\"core\"][\"goals\"]\n",
    "            r_data[row][4] += player[\"stats\"][\"demo\"][\"inflicted\"]\n",
    "            r_data[row][5] += player[\"stats\"][\"demo\"][\"taken\"]\n",
    "    except:\n",
    "        bad_data_row_nums.append(row)    # save bad rows for dropping later\n",
    "\n",
    "print(len(bad_data_row_nums))\n"
   ]
  },
  {
   "cell_type": "code",
   "execution_count": 83,
   "metadata": {},
   "outputs": [
    {
     "output_type": "stream",
     "name": "stdout",
     "text": [
      "first 5 of r_data.  Total length = 162\n[[4. 1. 4. 3. 4. 1.]\n [0. 1. 1. 5. 1. 1.]\n [7. 0. 0. 4. 0. 0.]\n [1. 1. 1. 2. 1. 1.]\n [2. 1. 6. 1. 6. 1.]]\n\nfirst 5 of r_id.  Total length = 162\n['5f99c559d3221fc02865826b', '5f99c55ad3221fc02865826c', '5f99c55ad3221fc02865826d', '5f99c55bd3221fc02865826e', '5f99c55bd3221fc02865826f']\n\nfirst 5 of bad_data_row_nums.  Total length = 75\n[18, 20, 22, 24, 26]\n"
     ]
    }
   ],
   "source": [
    "# quick entry/format check\n",
    "print(f'first 5 of r_data.  Total length = {len(r_data)}')\n",
    "print(r_data[:5])\n",
    "print(f'\\nfirst 5 of r_id.  Total length = {len(r_id)}')\n",
    "print(r_id[:5])\n",
    "print(f'\\nfirst 5 of bad_data_row_nums.  Total length = {len(bad_data_row_nums)}')\n",
    "print(bad_data_row_nums[:5])"
   ]
  },
  {
   "cell_type": "code",
   "execution_count": 94,
   "metadata": {},
   "outputs": [
    {
     "output_type": "stream",
     "name": "stdout",
     "text": [
      "<class 'pandas.core.frame.DataFrame'>\nInt64Index: 87 entries, 0 to 161\nData columns (total 6 columns):\n #   Column                        Non-Null Count  Dtype  \n---  ------                        --------------  -----  \n 0   blue_total_goals              87 non-null     float64\n 1   blue_total_demos_inflicted    87 non-null     float64\n 2   blue_total_demos_taken        87 non-null     float64\n 3   orange_total_goals            87 non-null     float64\n 4   orange_total_demos_inflicted  87 non-null     float64\n 5   orange_total_demos_taken      87 non-null     float64\ndtypes: float64(6)\nmemory usage: 4.8 KB\n"
     ]
    }
   ],
   "source": [
    "#df = pd.DataFrame(r_data, columns=df_cols, index=r_id)\n",
    "df = pd.DataFrame(r_data, columns=df_cols)\n",
    "df = df.drop(bad_data_row_nums)    # dropping rows that threw exception\n",
    "df.info()"
   ]
  },
  {
   "cell_type": "code",
   "execution_count": 111,
   "metadata": {},
   "outputs": [
    {
     "output_type": "execute_result",
     "data": {
      "text/plain": [
       "<AxesSubplot:>"
      ]
     },
     "metadata": {},
     "execution_count": 111
    },
    {
     "output_type": "display_data",
     "data": {
      "text/plain": "<Figure size 432x288 with 1 Axes>",
      "image/svg+xml": "<?xml version=\"1.0\" encoding=\"utf-8\" standalone=\"no\"?>\n<!DOCTYPE svg PUBLIC \"-//W3C//DTD SVG 1.1//EN\"\n  \"http://www.w3.org/Graphics/SVG/1.1/DTD/svg11.dtd\">\n<!-- Created with matplotlib (https://matplotlib.org/) -->\n<svg height=\"248.518125pt\" version=\"1.1\" viewBox=\"0 0 368.925 248.518125\" width=\"368.925pt\" xmlns=\"http://www.w3.org/2000/svg\" xmlns:xlink=\"http://www.w3.org/1999/xlink\">\n <metadata>\n  <rdf:RDF xmlns:cc=\"http://creativecommons.org/ns#\" xmlns:dc=\"http://purl.org/dc/elements/1.1/\" xmlns:rdf=\"http://www.w3.org/1999/02/22-rdf-syntax-ns#\">\n   <cc:Work>\n    <dc:type rdf:resource=\"http://purl.org/dc/dcmitype/StillImage\"/>\n    <dc:date>2020-10-28T15:59:56.516507</dc:date>\n    <dc:format>image/svg+xml</dc:format>\n    <dc:creator>\n     <cc:Agent>\n      <dc:title>Matplotlib v3.3.1, https://matplotlib.org/</dc:title>\n     </cc:Agent>\n    </dc:creator>\n   </cc:Work>\n  </rdf:RDF>\n </metadata>\n <defs>\n  <style type=\"text/css\">*{stroke-linecap:butt;stroke-linejoin:round;}</style>\n </defs>\n <g id=\"figure_1\">\n  <g id=\"patch_1\">\n   <path d=\"M -0 248.518125 \nL 368.925 248.518125 \nL 368.925 0 \nL -0 0 \nz\n\" style=\"fill:none;\"/>\n  </g>\n  <g id=\"axes_1\">\n   <g id=\"patch_2\">\n    <path d=\"M 26.925 224.64 \nL 361.725 224.64 \nL 361.725 7.2 \nL 26.925 7.2 \nz\n\" style=\"fill:#ffffff;\"/>\n   </g>\n   <g id=\"patch_3\">\n    <path clip-path=\"url(#p70d570fc66)\" d=\"M 42.143182 224.64 \nL 57.361364 224.64 \nL 57.361364 104.396682 \nL 42.143182 104.396682 \nz\n\" style=\"fill:#1f77b4;\"/>\n   </g>\n   <g id=\"patch_4\">\n    <path clip-path=\"url(#p70d570fc66)\" d=\"M 57.361364 224.64 \nL 72.579545 224.64 \nL 72.579545 17.554286 \nL 57.361364 17.554286 \nz\n\" style=\"fill:#1f77b4;\"/>\n   </g>\n   <g id=\"patch_5\">\n    <path clip-path=\"url(#p70d570fc66)\" d=\"M 72.579545 224.64 \nL 87.797727 224.64 \nL 87.797727 104.396682 \nL 72.579545 104.396682 \nz\n\" style=\"fill:#1f77b4;\"/>\n   </g>\n   <g id=\"patch_6\">\n    <path clip-path=\"url(#p70d570fc66)\" d=\"M 87.797727 224.64 \nL 103.015909 224.64 \nL 103.015909 131.117419 \nL 87.797727 131.117419 \nz\n\" style=\"fill:#1f77b4;\"/>\n   </g>\n   <g id=\"patch_7\">\n    <path clip-path=\"url(#p70d570fc66)\" d=\"M 103.015909 224.64 \nL 118.234091 224.64 \nL 118.234091 211.279631 \nL 103.015909 211.279631 \nz\n\" style=\"fill:#1f77b4;\"/>\n   </g>\n   <g id=\"patch_8\">\n    <path clip-path=\"url(#p70d570fc66)\" d=\"M 118.234091 224.64 \nL 133.452273 224.64 \nL 133.452273 224.64 \nL 118.234091 224.64 \nz\n\" style=\"fill:#1f77b4;\"/>\n   </g>\n   <g id=\"patch_9\">\n    <path clip-path=\"url(#p70d570fc66)\" d=\"M 133.452273 224.64 \nL 148.670455 224.64 \nL 148.670455 224.64 \nL 133.452273 224.64 \nz\n\" style=\"fill:#1f77b4;\"/>\n   </g>\n   <g id=\"patch_10\">\n    <path clip-path=\"url(#p70d570fc66)\" d=\"M 148.670455 224.64 \nL 163.888636 224.64 \nL 163.888636 224.64 \nL 148.670455 224.64 \nz\n\" style=\"fill:#1f77b4;\"/>\n   </g>\n   <g id=\"patch_11\">\n    <path clip-path=\"url(#p70d570fc66)\" d=\"M 163.888636 224.64 \nL 179.106818 224.64 \nL 179.106818 224.64 \nL 163.888636 224.64 \nz\n\" style=\"fill:#1f77b4;\"/>\n   </g>\n   <g id=\"patch_12\">\n    <path clip-path=\"url(#p70d570fc66)\" d=\"M 179.106818 224.64 \nL 194.325 224.64 \nL 194.325 224.64 \nL 179.106818 224.64 \nz\n\" style=\"fill:#1f77b4;\"/>\n   </g>\n   <g id=\"patch_13\">\n    <path clip-path=\"url(#p70d570fc66)\" d=\"M 194.325 224.64 \nL 209.543182 224.64 \nL 209.543182 224.64 \nL 194.325 224.64 \nz\n\" style=\"fill:#1f77b4;\"/>\n   </g>\n   <g id=\"patch_14\">\n    <path clip-path=\"url(#p70d570fc66)\" d=\"M 209.543182 224.64 \nL 224.761364 224.64 \nL 224.761364 224.64 \nL 209.543182 224.64 \nz\n\" style=\"fill:#1f77b4;\"/>\n   </g>\n   <g id=\"patch_15\">\n    <path clip-path=\"url(#p70d570fc66)\" d=\"M 224.761364 224.64 \nL 239.979545 224.64 \nL 239.979545 224.64 \nL 224.761364 224.64 \nz\n\" style=\"fill:#1f77b4;\"/>\n   </g>\n   <g id=\"patch_16\">\n    <path clip-path=\"url(#p70d570fc66)\" d=\"M 239.979545 224.64 \nL 255.197727 224.64 \nL 255.197727 224.64 \nL 239.979545 224.64 \nz\n\" style=\"fill:#1f77b4;\"/>\n   </g>\n   <g id=\"patch_17\">\n    <path clip-path=\"url(#p70d570fc66)\" d=\"M 255.197727 224.64 \nL 270.415909 224.64 \nL 270.415909 224.64 \nL 255.197727 224.64 \nz\n\" style=\"fill:#1f77b4;\"/>\n   </g>\n   <g id=\"patch_18\">\n    <path clip-path=\"url(#p70d570fc66)\" d=\"M 270.415909 224.64 \nL 285.634091 224.64 \nL 285.634091 224.64 \nL 270.415909 224.64 \nz\n\" style=\"fill:#1f77b4;\"/>\n   </g>\n   <g id=\"patch_19\">\n    <path clip-path=\"url(#p70d570fc66)\" d=\"M 285.634091 224.64 \nL 300.852273 224.64 \nL 300.852273 211.279631 \nL 285.634091 211.279631 \nz\n\" style=\"fill:#1f77b4;\"/>\n   </g>\n   <g id=\"patch_20\">\n    <path clip-path=\"url(#p70d570fc66)\" d=\"M 300.852273 224.64 \nL 316.070455 224.64 \nL 316.070455 224.64 \nL 300.852273 224.64 \nz\n\" style=\"fill:#1f77b4;\"/>\n   </g>\n   <g id=\"patch_21\">\n    <path clip-path=\"url(#p70d570fc66)\" d=\"M 316.070455 224.64 \nL 331.288636 224.64 \nL 331.288636 224.64 \nL 316.070455 224.64 \nz\n\" style=\"fill:#1f77b4;\"/>\n   </g>\n   <g id=\"patch_22\">\n    <path clip-path=\"url(#p70d570fc66)\" d=\"M 331.288636 224.64 \nL 346.506818 224.64 \nL 346.506818 211.279631 \nL 331.288636 211.279631 \nz\n\" style=\"fill:#1f77b4;\"/>\n   </g>\n   <g id=\"patch_23\">\n    <path clip-path=\"url(#p70d570fc66)\" d=\"M 42.143182 224.64 \nL 52.035 224.64 \nL 52.035 30.914654 \nL 42.143182 30.914654 \nz\n\" style=\"fill:#ff7f0e;\"/>\n   </g>\n   <g id=\"patch_24\">\n    <path clip-path=\"url(#p70d570fc66)\" d=\"M 52.035 224.64 \nL 61.926818 224.64 \nL 61.926818 64.315576 \nL 52.035 64.315576 \nz\n\" style=\"fill:#ff7f0e;\"/>\n   </g>\n   <g id=\"patch_25\">\n    <path clip-path=\"url(#p70d570fc66)\" d=\"M 61.926818 224.64 \nL 71.818636 224.64 \nL 71.818636 224.64 \nL 61.926818 224.64 \nz\n\" style=\"fill:#ff7f0e;\"/>\n   </g>\n   <g id=\"patch_26\">\n    <path clip-path=\"url(#p70d570fc66)\" d=\"M 71.818636 224.64 \nL 81.710455 224.64 \nL 81.710455 97.716498 \nL 71.818636 97.716498 \nz\n\" style=\"fill:#ff7f0e;\"/>\n   </g>\n   <g id=\"patch_27\">\n    <path clip-path=\"url(#p70d570fc66)\" d=\"M 81.710455 224.64 \nL 91.602273 224.64 \nL 91.602273 177.87871 \nL 81.710455 177.87871 \nz\n\" style=\"fill:#ff7f0e;\"/>\n   </g>\n   <g id=\"patch_28\">\n    <path clip-path=\"url(#p70d570fc66)\" d=\"M 91.602273 224.64 \nL 101.494091 224.64 \nL 101.494091 224.64 \nL 91.602273 224.64 \nz\n\" style=\"fill:#ff7f0e;\"/>\n   </g>\n   <g id=\"patch_29\">\n    <path clip-path=\"url(#p70d570fc66)\" d=\"M 101.494091 224.64 \nL 111.385909 224.64 \nL 111.385909 211.279631 \nL 101.494091 211.279631 \nz\n\" style=\"fill:#ff7f0e;\"/>\n   </g>\n   <g id=\"patch_30\">\n    <path clip-path=\"url(#p70d570fc66)\" d=\"M 111.385909 224.64 \nL 121.277727 224.64 \nL 121.277727 224.64 \nL 111.385909 224.64 \nz\n\" style=\"fill:#ff7f0e;\"/>\n   </g>\n   <g id=\"patch_31\">\n    <path clip-path=\"url(#p70d570fc66)\" d=\"M 121.277727 224.64 \nL 131.169545 224.64 \nL 131.169545 224.64 \nL 121.277727 224.64 \nz\n\" style=\"fill:#ff7f0e;\"/>\n   </g>\n   <g id=\"patch_32\">\n    <path clip-path=\"url(#p70d570fc66)\" d=\"M 131.169545 224.64 \nL 141.061364 224.64 \nL 141.061364 217.959816 \nL 131.169545 217.959816 \nz\n\" style=\"fill:#ff7f0e;\"/>\n   </g>\n   <g id=\"patch_33\">\n    <path clip-path=\"url(#p70d570fc66)\" d=\"M 141.061364 224.64 \nL 150.953182 224.64 \nL 150.953182 217.959816 \nL 141.061364 217.959816 \nz\n\" style=\"fill:#ff7f0e;\"/>\n   </g>\n   <g id=\"patch_34\">\n    <path clip-path=\"url(#p70d570fc66)\" d=\"M 150.953182 224.64 \nL 160.845 224.64 \nL 160.845 224.64 \nL 150.953182 224.64 \nz\n\" style=\"fill:#ff7f0e;\"/>\n   </g>\n   <g id=\"patch_35\">\n    <path clip-path=\"url(#p70d570fc66)\" d=\"M 160.845 224.64 \nL 170.736818 224.64 \nL 170.736818 224.64 \nL 160.845 224.64 \nz\n\" style=\"fill:#ff7f0e;\"/>\n   </g>\n   <g id=\"patch_36\">\n    <path clip-path=\"url(#p70d570fc66)\" d=\"M 170.736818 224.64 \nL 180.628636 224.64 \nL 180.628636 224.64 \nL 170.736818 224.64 \nz\n\" style=\"fill:#ff7f0e;\"/>\n   </g>\n   <g id=\"patch_37\">\n    <path clip-path=\"url(#p70d570fc66)\" d=\"M 180.628636 224.64 \nL 190.520455 224.64 \nL 190.520455 224.64 \nL 180.628636 224.64 \nz\n\" style=\"fill:#ff7f0e;\"/>\n   </g>\n   <g id=\"patch_38\">\n    <path clip-path=\"url(#p70d570fc66)\" d=\"M 190.520455 224.64 \nL 200.412273 224.64 \nL 200.412273 224.64 \nL 190.520455 224.64 \nz\n\" style=\"fill:#ff7f0e;\"/>\n   </g>\n   <g id=\"patch_39\">\n    <path clip-path=\"url(#p70d570fc66)\" d=\"M 200.412273 224.64 \nL 210.304091 224.64 \nL 210.304091 211.279631 \nL 200.412273 211.279631 \nz\n\" style=\"fill:#ff7f0e;\"/>\n   </g>\n   <g id=\"patch_40\">\n    <path clip-path=\"url(#p70d570fc66)\" d=\"M 210.304091 224.64 \nL 220.195909 224.64 \nL 220.195909 224.64 \nL 210.304091 224.64 \nz\n\" style=\"fill:#ff7f0e;\"/>\n   </g>\n   <g id=\"patch_41\">\n    <path clip-path=\"url(#p70d570fc66)\" d=\"M 220.195909 224.64 \nL 230.087727 224.64 \nL 230.087727 224.64 \nL 220.195909 224.64 \nz\n\" style=\"fill:#ff7f0e;\"/>\n   </g>\n   <g id=\"patch_42\">\n    <path clip-path=\"url(#p70d570fc66)\" d=\"M 230.087727 224.64 \nL 239.979545 224.64 \nL 239.979545 211.279631 \nL 230.087727 211.279631 \nz\n\" style=\"fill:#ff7f0e;\"/>\n   </g>\n   <g id=\"matplotlib.axis_1\">\n    <g id=\"xtick_1\">\n     <g id=\"line2d_1\">\n      <path clip-path=\"url(#p70d570fc66)\" d=\"M 42.143182 224.64 \nL 42.143182 7.2 \n\" style=\"fill:none;stroke:#b0b0b0;stroke-linecap:square;stroke-width:0.8;\"/>\n     </g>\n     <g id=\"line2d_2\">\n      <defs>\n       <path d=\"M 0 0 \nL 0 3.5 \n\" id=\"m709f18ff47\" style=\"stroke:#000000;stroke-width:0.8;\"/>\n      </defs>\n      <g>\n       <use style=\"stroke:#000000;stroke-width:0.8;\" x=\"42.143182\" xlink:href=\"#m709f18ff47\" y=\"224.64\"/>\n      </g>\n     </g>\n     <g id=\"text_1\">\n      <!-- 0.0 -->\n      <g transform=\"translate(34.191619 239.238437)scale(0.1 -0.1)\">\n       <defs>\n        <path d=\"M 31.78125 66.40625 \nQ 24.171875 66.40625 20.328125 58.90625 \nQ 16.5 51.421875 16.5 36.375 \nQ 16.5 21.390625 20.328125 13.890625 \nQ 24.171875 6.390625 31.78125 6.390625 \nQ 39.453125 6.390625 43.28125 13.890625 \nQ 47.125 21.390625 47.125 36.375 \nQ 47.125 51.421875 43.28125 58.90625 \nQ 39.453125 66.40625 31.78125 66.40625 \nz\nM 31.78125 74.21875 \nQ 44.046875 74.21875 50.515625 64.515625 \nQ 56.984375 54.828125 56.984375 36.375 \nQ 56.984375 17.96875 50.515625 8.265625 \nQ 44.046875 -1.421875 31.78125 -1.421875 \nQ 19.53125 -1.421875 13.0625 8.265625 \nQ 6.59375 17.96875 6.59375 36.375 \nQ 6.59375 54.828125 13.0625 64.515625 \nQ 19.53125 74.21875 31.78125 74.21875 \nz\n\" id=\"DejaVuSans-48\"/>\n        <path d=\"M 10.6875 12.40625 \nL 21 12.40625 \nL 21 0 \nL 10.6875 0 \nz\n\" id=\"DejaVuSans-46\"/>\n       </defs>\n       <use xlink:href=\"#DejaVuSans-48\"/>\n       <use x=\"63.623047\" xlink:href=\"#DejaVuSans-46\"/>\n       <use x=\"95.410156\" xlink:href=\"#DejaVuSans-48\"/>\n      </g>\n     </g>\n    </g>\n    <g id=\"xtick_2\">\n     <g id=\"line2d_3\">\n      <path clip-path=\"url(#p70d570fc66)\" d=\"M 80.188636 224.64 \nL 80.188636 7.2 \n\" style=\"fill:none;stroke:#b0b0b0;stroke-linecap:square;stroke-width:0.8;\"/>\n     </g>\n     <g id=\"line2d_4\">\n      <g>\n       <use style=\"stroke:#000000;stroke-width:0.8;\" x=\"80.188636\" xlink:href=\"#m709f18ff47\" y=\"224.64\"/>\n      </g>\n     </g>\n     <g id=\"text_2\">\n      <!-- 2.5 -->\n      <g transform=\"translate(72.237074 239.238437)scale(0.1 -0.1)\">\n       <defs>\n        <path d=\"M 19.1875 8.296875 \nL 53.609375 8.296875 \nL 53.609375 0 \nL 7.328125 0 \nL 7.328125 8.296875 \nQ 12.9375 14.109375 22.625 23.890625 \nQ 32.328125 33.6875 34.8125 36.53125 \nQ 39.546875 41.84375 41.421875 45.53125 \nQ 43.3125 49.21875 43.3125 52.78125 \nQ 43.3125 58.59375 39.234375 62.25 \nQ 35.15625 65.921875 28.609375 65.921875 \nQ 23.96875 65.921875 18.8125 64.3125 \nQ 13.671875 62.703125 7.8125 59.421875 \nL 7.8125 69.390625 \nQ 13.765625 71.78125 18.9375 73 \nQ 24.125 74.21875 28.421875 74.21875 \nQ 39.75 74.21875 46.484375 68.546875 \nQ 53.21875 62.890625 53.21875 53.421875 \nQ 53.21875 48.921875 51.53125 44.890625 \nQ 49.859375 40.875 45.40625 35.40625 \nQ 44.1875 33.984375 37.640625 27.21875 \nQ 31.109375 20.453125 19.1875 8.296875 \nz\n\" id=\"DejaVuSans-50\"/>\n        <path d=\"M 10.796875 72.90625 \nL 49.515625 72.90625 \nL 49.515625 64.59375 \nL 19.828125 64.59375 \nL 19.828125 46.734375 \nQ 21.96875 47.46875 24.109375 47.828125 \nQ 26.265625 48.1875 28.421875 48.1875 \nQ 40.625 48.1875 47.75 41.5 \nQ 54.890625 34.8125 54.890625 23.390625 \nQ 54.890625 11.625 47.5625 5.09375 \nQ 40.234375 -1.421875 26.90625 -1.421875 \nQ 22.3125 -1.421875 17.546875 -0.640625 \nQ 12.796875 0.140625 7.71875 1.703125 \nL 7.71875 11.625 \nQ 12.109375 9.234375 16.796875 8.0625 \nQ 21.484375 6.890625 26.703125 6.890625 \nQ 35.15625 6.890625 40.078125 11.328125 \nQ 45.015625 15.765625 45.015625 23.390625 \nQ 45.015625 31 40.078125 35.4375 \nQ 35.15625 39.890625 26.703125 39.890625 \nQ 22.75 39.890625 18.8125 39.015625 \nQ 14.890625 38.140625 10.796875 36.28125 \nz\n\" id=\"DejaVuSans-53\"/>\n       </defs>\n       <use xlink:href=\"#DejaVuSans-50\"/>\n       <use x=\"63.623047\" xlink:href=\"#DejaVuSans-46\"/>\n       <use x=\"95.410156\" xlink:href=\"#DejaVuSans-53\"/>\n      </g>\n     </g>\n    </g>\n    <g id=\"xtick_3\">\n     <g id=\"line2d_5\">\n      <path clip-path=\"url(#p70d570fc66)\" d=\"M 118.234091 224.64 \nL 118.234091 7.2 \n\" style=\"fill:none;stroke:#b0b0b0;stroke-linecap:square;stroke-width:0.8;\"/>\n     </g>\n     <g id=\"line2d_6\">\n      <g>\n       <use style=\"stroke:#000000;stroke-width:0.8;\" x=\"118.234091\" xlink:href=\"#m709f18ff47\" y=\"224.64\"/>\n      </g>\n     </g>\n     <g id=\"text_3\">\n      <!-- 5.0 -->\n      <g transform=\"translate(110.282528 239.238437)scale(0.1 -0.1)\">\n       <use xlink:href=\"#DejaVuSans-53\"/>\n       <use x=\"63.623047\" xlink:href=\"#DejaVuSans-46\"/>\n       <use x=\"95.410156\" xlink:href=\"#DejaVuSans-48\"/>\n      </g>\n     </g>\n    </g>\n    <g id=\"xtick_4\">\n     <g id=\"line2d_7\">\n      <path clip-path=\"url(#p70d570fc66)\" d=\"M 156.279545 224.64 \nL 156.279545 7.2 \n\" style=\"fill:none;stroke:#b0b0b0;stroke-linecap:square;stroke-width:0.8;\"/>\n     </g>\n     <g id=\"line2d_8\">\n      <g>\n       <use style=\"stroke:#000000;stroke-width:0.8;\" x=\"156.279545\" xlink:href=\"#m709f18ff47\" y=\"224.64\"/>\n      </g>\n     </g>\n     <g id=\"text_4\">\n      <!-- 7.5 -->\n      <g transform=\"translate(148.327983 239.238437)scale(0.1 -0.1)\">\n       <defs>\n        <path d=\"M 8.203125 72.90625 \nL 55.078125 72.90625 \nL 55.078125 68.703125 \nL 28.609375 0 \nL 18.3125 0 \nL 43.21875 64.59375 \nL 8.203125 64.59375 \nz\n\" id=\"DejaVuSans-55\"/>\n       </defs>\n       <use xlink:href=\"#DejaVuSans-55\"/>\n       <use x=\"63.623047\" xlink:href=\"#DejaVuSans-46\"/>\n       <use x=\"95.410156\" xlink:href=\"#DejaVuSans-53\"/>\n      </g>\n     </g>\n    </g>\n    <g id=\"xtick_5\">\n     <g id=\"line2d_9\">\n      <path clip-path=\"url(#p70d570fc66)\" d=\"M 194.325 224.64 \nL 194.325 7.2 \n\" style=\"fill:none;stroke:#b0b0b0;stroke-linecap:square;stroke-width:0.8;\"/>\n     </g>\n     <g id=\"line2d_10\">\n      <g>\n       <use style=\"stroke:#000000;stroke-width:0.8;\" x=\"194.325\" xlink:href=\"#m709f18ff47\" y=\"224.64\"/>\n      </g>\n     </g>\n     <g id=\"text_5\">\n      <!-- 10.0 -->\n      <g transform=\"translate(183.192188 239.238437)scale(0.1 -0.1)\">\n       <defs>\n        <path d=\"M 12.40625 8.296875 \nL 28.515625 8.296875 \nL 28.515625 63.921875 \nL 10.984375 60.40625 \nL 10.984375 69.390625 \nL 28.421875 72.90625 \nL 38.28125 72.90625 \nL 38.28125 8.296875 \nL 54.390625 8.296875 \nL 54.390625 0 \nL 12.40625 0 \nz\n\" id=\"DejaVuSans-49\"/>\n       </defs>\n       <use xlink:href=\"#DejaVuSans-49\"/>\n       <use x=\"63.623047\" xlink:href=\"#DejaVuSans-48\"/>\n       <use x=\"127.246094\" xlink:href=\"#DejaVuSans-46\"/>\n       <use x=\"159.033203\" xlink:href=\"#DejaVuSans-48\"/>\n      </g>\n     </g>\n    </g>\n    <g id=\"xtick_6\">\n     <g id=\"line2d_11\">\n      <path clip-path=\"url(#p70d570fc66)\" d=\"M 232.370455 224.64 \nL 232.370455 7.2 \n\" style=\"fill:none;stroke:#b0b0b0;stroke-linecap:square;stroke-width:0.8;\"/>\n     </g>\n     <g id=\"line2d_12\">\n      <g>\n       <use style=\"stroke:#000000;stroke-width:0.8;\" x=\"232.370455\" xlink:href=\"#m709f18ff47\" y=\"224.64\"/>\n      </g>\n     </g>\n     <g id=\"text_6\">\n      <!-- 12.5 -->\n      <g transform=\"translate(221.237642 239.238437)scale(0.1 -0.1)\">\n       <use xlink:href=\"#DejaVuSans-49\"/>\n       <use x=\"63.623047\" xlink:href=\"#DejaVuSans-50\"/>\n       <use x=\"127.246094\" xlink:href=\"#DejaVuSans-46\"/>\n       <use x=\"159.033203\" xlink:href=\"#DejaVuSans-53\"/>\n      </g>\n     </g>\n    </g>\n    <g id=\"xtick_7\">\n     <g id=\"line2d_13\">\n      <path clip-path=\"url(#p70d570fc66)\" d=\"M 270.415909 224.64 \nL 270.415909 7.2 \n\" style=\"fill:none;stroke:#b0b0b0;stroke-linecap:square;stroke-width:0.8;\"/>\n     </g>\n     <g id=\"line2d_14\">\n      <g>\n       <use style=\"stroke:#000000;stroke-width:0.8;\" x=\"270.415909\" xlink:href=\"#m709f18ff47\" y=\"224.64\"/>\n      </g>\n     </g>\n     <g id=\"text_7\">\n      <!-- 15.0 -->\n      <g transform=\"translate(259.283097 239.238437)scale(0.1 -0.1)\">\n       <use xlink:href=\"#DejaVuSans-49\"/>\n       <use x=\"63.623047\" xlink:href=\"#DejaVuSans-53\"/>\n       <use x=\"127.246094\" xlink:href=\"#DejaVuSans-46\"/>\n       <use x=\"159.033203\" xlink:href=\"#DejaVuSans-48\"/>\n      </g>\n     </g>\n    </g>\n    <g id=\"xtick_8\">\n     <g id=\"line2d_15\">\n      <path clip-path=\"url(#p70d570fc66)\" d=\"M 308.461364 224.64 \nL 308.461364 7.2 \n\" style=\"fill:none;stroke:#b0b0b0;stroke-linecap:square;stroke-width:0.8;\"/>\n     </g>\n     <g id=\"line2d_16\">\n      <g>\n       <use style=\"stroke:#000000;stroke-width:0.8;\" x=\"308.461364\" xlink:href=\"#m709f18ff47\" y=\"224.64\"/>\n      </g>\n     </g>\n     <g id=\"text_8\">\n      <!-- 17.5 -->\n      <g transform=\"translate(297.328551 239.238437)scale(0.1 -0.1)\">\n       <use xlink:href=\"#DejaVuSans-49\"/>\n       <use x=\"63.623047\" xlink:href=\"#DejaVuSans-55\"/>\n       <use x=\"127.246094\" xlink:href=\"#DejaVuSans-46\"/>\n       <use x=\"159.033203\" xlink:href=\"#DejaVuSans-53\"/>\n      </g>\n     </g>\n    </g>\n    <g id=\"xtick_9\">\n     <g id=\"line2d_17\">\n      <path clip-path=\"url(#p70d570fc66)\" d=\"M 346.506818 224.64 \nL 346.506818 7.2 \n\" style=\"fill:none;stroke:#b0b0b0;stroke-linecap:square;stroke-width:0.8;\"/>\n     </g>\n     <g id=\"line2d_18\">\n      <g>\n       <use style=\"stroke:#000000;stroke-width:0.8;\" x=\"346.506818\" xlink:href=\"#m709f18ff47\" y=\"224.64\"/>\n      </g>\n     </g>\n     <g id=\"text_9\">\n      <!-- 20.0 -->\n      <g transform=\"translate(335.374006 239.238437)scale(0.1 -0.1)\">\n       <use xlink:href=\"#DejaVuSans-50\"/>\n       <use x=\"63.623047\" xlink:href=\"#DejaVuSans-48\"/>\n       <use x=\"127.246094\" xlink:href=\"#DejaVuSans-46\"/>\n       <use x=\"159.033203\" xlink:href=\"#DejaVuSans-48\"/>\n      </g>\n     </g>\n    </g>\n   </g>\n   <g id=\"matplotlib.axis_2\">\n    <g id=\"ytick_1\">\n     <g id=\"line2d_19\">\n      <path clip-path=\"url(#p70d570fc66)\" d=\"M 26.925 224.64 \nL 361.725 224.64 \n\" style=\"fill:none;stroke:#b0b0b0;stroke-linecap:square;stroke-width:0.8;\"/>\n     </g>\n     <g id=\"line2d_20\">\n      <defs>\n       <path d=\"M 0 0 \nL -3.5 0 \n\" id=\"m5364a11f7e\" style=\"stroke:#000000;stroke-width:0.8;\"/>\n      </defs>\n      <g>\n       <use style=\"stroke:#000000;stroke-width:0.8;\" x=\"26.925\" xlink:href=\"#m5364a11f7e\" y=\"224.64\"/>\n      </g>\n     </g>\n     <g id=\"text_10\">\n      <!-- 0 -->\n      <g transform=\"translate(13.5625 228.439219)scale(0.1 -0.1)\">\n       <use xlink:href=\"#DejaVuSans-48\"/>\n      </g>\n     </g>\n    </g>\n    <g id=\"ytick_2\">\n     <g id=\"line2d_21\">\n      <path clip-path=\"url(#p70d570fc66)\" d=\"M 26.925 191.239078 \nL 361.725 191.239078 \n\" style=\"fill:none;stroke:#b0b0b0;stroke-linecap:square;stroke-width:0.8;\"/>\n     </g>\n     <g id=\"line2d_22\">\n      <g>\n       <use style=\"stroke:#000000;stroke-width:0.8;\" x=\"26.925\" xlink:href=\"#m5364a11f7e\" y=\"191.239078\"/>\n      </g>\n     </g>\n     <g id=\"text_11\">\n      <!-- 5 -->\n      <g transform=\"translate(13.5625 195.038297)scale(0.1 -0.1)\">\n       <use xlink:href=\"#DejaVuSans-53\"/>\n      </g>\n     </g>\n    </g>\n    <g id=\"ytick_3\">\n     <g id=\"line2d_23\">\n      <path clip-path=\"url(#p70d570fc66)\" d=\"M 26.925 157.838157 \nL 361.725 157.838157 \n\" style=\"fill:none;stroke:#b0b0b0;stroke-linecap:square;stroke-width:0.8;\"/>\n     </g>\n     <g id=\"line2d_24\">\n      <g>\n       <use style=\"stroke:#000000;stroke-width:0.8;\" x=\"26.925\" xlink:href=\"#m5364a11f7e\" y=\"157.838157\"/>\n      </g>\n     </g>\n     <g id=\"text_12\">\n      <!-- 10 -->\n      <g transform=\"translate(7.2 161.637375)scale(0.1 -0.1)\">\n       <use xlink:href=\"#DejaVuSans-49\"/>\n       <use x=\"63.623047\" xlink:href=\"#DejaVuSans-48\"/>\n      </g>\n     </g>\n    </g>\n    <g id=\"ytick_4\">\n     <g id=\"line2d_25\">\n      <path clip-path=\"url(#p70d570fc66)\" d=\"M 26.925 124.437235 \nL 361.725 124.437235 \n\" style=\"fill:none;stroke:#b0b0b0;stroke-linecap:square;stroke-width:0.8;\"/>\n     </g>\n     <g id=\"line2d_26\">\n      <g>\n       <use style=\"stroke:#000000;stroke-width:0.8;\" x=\"26.925\" xlink:href=\"#m5364a11f7e\" y=\"124.437235\"/>\n      </g>\n     </g>\n     <g id=\"text_13\">\n      <!-- 15 -->\n      <g transform=\"translate(7.2 128.236454)scale(0.1 -0.1)\">\n       <use xlink:href=\"#DejaVuSans-49\"/>\n       <use x=\"63.623047\" xlink:href=\"#DejaVuSans-53\"/>\n      </g>\n     </g>\n    </g>\n    <g id=\"ytick_5\">\n     <g id=\"line2d_27\">\n      <path clip-path=\"url(#p70d570fc66)\" d=\"M 26.925 91.036313 \nL 361.725 91.036313 \n\" style=\"fill:none;stroke:#b0b0b0;stroke-linecap:square;stroke-width:0.8;\"/>\n     </g>\n     <g id=\"line2d_28\">\n      <g>\n       <use style=\"stroke:#000000;stroke-width:0.8;\" x=\"26.925\" xlink:href=\"#m5364a11f7e\" y=\"91.036313\"/>\n      </g>\n     </g>\n     <g id=\"text_14\">\n      <!-- 20 -->\n      <g transform=\"translate(7.2 94.835532)scale(0.1 -0.1)\">\n       <use xlink:href=\"#DejaVuSans-50\"/>\n       <use x=\"63.623047\" xlink:href=\"#DejaVuSans-48\"/>\n      </g>\n     </g>\n    </g>\n    <g id=\"ytick_6\">\n     <g id=\"line2d_29\">\n      <path clip-path=\"url(#p70d570fc66)\" d=\"M 26.925 57.635392 \nL 361.725 57.635392 \n\" style=\"fill:none;stroke:#b0b0b0;stroke-linecap:square;stroke-width:0.8;\"/>\n     </g>\n     <g id=\"line2d_30\">\n      <g>\n       <use style=\"stroke:#000000;stroke-width:0.8;\" x=\"26.925\" xlink:href=\"#m5364a11f7e\" y=\"57.635392\"/>\n      </g>\n     </g>\n     <g id=\"text_15\">\n      <!-- 25 -->\n      <g transform=\"translate(7.2 61.43461)scale(0.1 -0.1)\">\n       <use xlink:href=\"#DejaVuSans-50\"/>\n       <use x=\"63.623047\" xlink:href=\"#DejaVuSans-53\"/>\n      </g>\n     </g>\n    </g>\n    <g id=\"ytick_7\">\n     <g id=\"line2d_31\">\n      <path clip-path=\"url(#p70d570fc66)\" d=\"M 26.925 24.23447 \nL 361.725 24.23447 \n\" style=\"fill:none;stroke:#b0b0b0;stroke-linecap:square;stroke-width:0.8;\"/>\n     </g>\n     <g id=\"line2d_32\">\n      <g>\n       <use style=\"stroke:#000000;stroke-width:0.8;\" x=\"26.925\" xlink:href=\"#m5364a11f7e\" y=\"24.23447\"/>\n      </g>\n     </g>\n     <g id=\"text_16\">\n      <!-- 30 -->\n      <g transform=\"translate(7.2 28.033689)scale(0.1 -0.1)\">\n       <defs>\n        <path d=\"M 40.578125 39.3125 \nQ 47.65625 37.796875 51.625 33 \nQ 55.609375 28.21875 55.609375 21.1875 \nQ 55.609375 10.40625 48.1875 4.484375 \nQ 40.765625 -1.421875 27.09375 -1.421875 \nQ 22.515625 -1.421875 17.65625 -0.515625 \nQ 12.796875 0.390625 7.625 2.203125 \nL 7.625 11.71875 \nQ 11.71875 9.328125 16.59375 8.109375 \nQ 21.484375 6.890625 26.8125 6.890625 \nQ 36.078125 6.890625 40.9375 10.546875 \nQ 45.796875 14.203125 45.796875 21.1875 \nQ 45.796875 27.640625 41.28125 31.265625 \nQ 36.765625 34.90625 28.71875 34.90625 \nL 20.21875 34.90625 \nL 20.21875 43.015625 \nL 29.109375 43.015625 \nQ 36.375 43.015625 40.234375 45.921875 \nQ 44.09375 48.828125 44.09375 54.296875 \nQ 44.09375 59.90625 40.109375 62.90625 \nQ 36.140625 65.921875 28.71875 65.921875 \nQ 24.65625 65.921875 20.015625 65.03125 \nQ 15.375 64.15625 9.8125 62.3125 \nL 9.8125 71.09375 \nQ 15.4375 72.65625 20.34375 73.4375 \nQ 25.25 74.21875 29.59375 74.21875 \nQ 40.828125 74.21875 47.359375 69.109375 \nQ 53.90625 64.015625 53.90625 55.328125 \nQ 53.90625 49.265625 50.4375 45.09375 \nQ 46.96875 40.921875 40.578125 39.3125 \nz\n\" id=\"DejaVuSans-51\"/>\n       </defs>\n       <use xlink:href=\"#DejaVuSans-51\"/>\n       <use x=\"63.623047\" xlink:href=\"#DejaVuSans-48\"/>\n      </g>\n     </g>\n    </g>\n   </g>\n   <g id=\"patch_43\">\n    <path d=\"M 26.925 224.64 \nL 26.925 7.2 \n\" style=\"fill:none;stroke:#000000;stroke-linecap:square;stroke-linejoin:miter;stroke-width:0.8;\"/>\n   </g>\n   <g id=\"patch_44\">\n    <path d=\"M 361.725 224.64 \nL 361.725 7.2 \n\" style=\"fill:none;stroke:#000000;stroke-linecap:square;stroke-linejoin:miter;stroke-width:0.8;\"/>\n   </g>\n   <g id=\"patch_45\">\n    <path d=\"M 26.925 224.64 \nL 361.725 224.64 \n\" style=\"fill:none;stroke:#000000;stroke-linecap:square;stroke-linejoin:miter;stroke-width:0.8;\"/>\n   </g>\n   <g id=\"patch_46\">\n    <path d=\"M 26.925 7.2 \nL 361.725 7.2 \n\" style=\"fill:none;stroke:#000000;stroke-linecap:square;stroke-linejoin:miter;stroke-width:0.8;\"/>\n   </g>\n  </g>\n </g>\n <defs>\n  <clipPath id=\"p70d570fc66\">\n   <rect height=\"217.44\" width=\"334.8\" x=\"26.925\" y=\"7.2\"/>\n  </clipPath>\n </defs>\n</svg>\n",
      "image/png": "[encoded data removed]"
     },
     "metadata": {
      "needs_background": "light"
     }
    }
   ],
   "source": [
    "df['blue_total_demos_inflicted'].hist(bins=20)\n",
    "df['orange_total_demos_inflicted'].hist(bins=20)"
   ]
  },
  {
   "cell_type": "code",
   "execution_count": 98,
   "metadata": {},
   "outputs": [
    {
     "output_type": "execute_result",
     "data": {
      "text/plain": [
       "       blue_total_goals  blue_total_demos_inflicted  blue_total_demos_taken  \\\n",
       "count         87.000000                   87.000000               87.000000   \n",
       "mean           3.057471                    2.172414                1.747126   \n",
       "std            1.984570                    3.676471                2.629079   \n",
       "min            0.000000                    0.000000                0.000000   \n",
       "25%            1.500000                    1.000000                0.000000   \n",
       "50%            3.000000                    1.000000                1.000000   \n",
       "75%            4.000000                    2.000000                2.000000   \n",
       "max            8.000000                   20.000000               13.000000   \n",
       "\n",
       "       orange_total_goals  orange_total_demos_inflicted  \\\n",
       "count           87.000000                     87.000000   \n",
       "mean             3.195402                      1.747126   \n",
       "std              1.915901                      2.629079   \n",
       "min              0.000000                      0.000000   \n",
       "25%              2.000000                      0.000000   \n",
       "50%              3.000000                      1.000000   \n",
       "75%              5.000000                      2.000000   \n",
       "max             10.000000                     13.000000   \n",
       "\n",
       "       orange_total_demos_taken  \n",
       "count                 87.000000  \n",
       "mean                   2.172414  \n",
       "std                    3.676471  \n",
       "min                    0.000000  \n",
       "25%                    1.000000  \n",
       "50%                    1.000000  \n",
       "75%                    2.000000  \n",
       "max                   20.000000  "
      ],
      "text/html": "<div>\n<style scoped>\n    .dataframe tbody tr th:only-of-type {\n        vertical-align: middle;\n    }\n\n    .dataframe tbody tr th {\n        vertical-align: top;\n    }\n\n    .dataframe thead th {\n        text-align: right;\n    }\n</style>\n<table border=\"1\" class=\"dataframe\">\n  <thead>\n    <tr style=\"text-align: right;\">\n      <th></th>\n      <th>blue_total_goals</th>\n      <th>blue_total_demos_inflicted</th>\n      <th>blue_total_demos_taken</th>\n      <th>orange_total_goals</th>\n      <th>orange_total_demos_inflicted</th>\n      <th>orange_total_demos_taken</th>\n    </tr>\n  </thead>\n  <tbody>\n    <tr>\n      <th>count</th>\n      <td>87.000000</td>\n      <td>87.000000</td>\n      <td>87.000000</td>\n      <td>87.000000</td>\n      <td>87.000000</td>\n      <td>87.000000</td>\n    </tr>\n    <tr>\n      <th>mean</th>\n      <td>3.057471</td>\n      <td>2.172414</td>\n      <td>1.747126</td>\n      <td>3.195402</td>\n      <td>1.747126</td>\n      <td>2.172414</td>\n    </tr>\n    <tr>\n      <th>std</th>\n      <td>1.984570</td>\n      <td>3.676471</td>\n      <td>2.629079</td>\n      <td>1.915901</td>\n      <td>2.629079</td>\n      <td>3.676471</td>\n    </tr>\n    <tr>\n      <th>min</th>\n      <td>0.000000</td>\n      <td>0.000000</td>\n      <td>0.000000</td>\n      <td>0.000000</td>\n      <td>0.000000</td>\n      <td>0.000000</td>\n    </tr>\n    <tr>\n      <th>25%</th>\n      <td>1.500000</td>\n      <td>1.000000</td>\n      <td>0.000000</td>\n      <td>2.000000</td>\n      <td>0.000000</td>\n      <td>1.000000</td>\n    </tr>\n    <tr>\n      <th>50%</th>\n      <td>3.000000</td>\n      <td>1.000000</td>\n      <td>1.000000</td>\n      <td>3.000000</td>\n      <td>1.000000</td>\n      <td>1.000000</td>\n    </tr>\n    <tr>\n      <th>75%</th>\n      <td>4.000000</td>\n      <td>2.000000</td>\n      <td>2.000000</td>\n      <td>5.000000</td>\n      <td>2.000000</td>\n      <td>2.000000</td>\n    </tr>\n    <tr>\n      <th>max</th>\n      <td>8.000000</td>\n      <td>20.000000</td>\n      <td>13.000000</td>\n      <td>10.000000</td>\n      <td>13.000000</td>\n      <td>20.000000</td>\n    </tr>\n  </tbody>\n</table>\n</div>"
     },
     "metadata": {},
     "execution_count": 98
    }
   ],
   "source": [
    "df.describe()"
   ]
  },
  {
   "cell_type": "code",
   "execution_count": 105,
   "metadata": {},
   "outputs": [
    {
     "output_type": "stream",
     "name": "stdout",
     "text": [
      "1.0     31\n2.0     18\n0.0     18\n3.0     14\n20.0     2\n16.0     2\n4.0      2\nName: blue_total_demos_inflicted, dtype: int64\n"
     ]
    },
    {
     "output_type": "execute_result",
     "data": {
      "text/plain": [
       "0.0     29\n",
       "1.0     24\n",
       "2.0     19\n",
       "3.0      7\n",
       "11.0     2\n",
       "13.0     2\n",
       "4.0      2\n",
       "7.0      1\n",
       "6.0      1\n",
       "Name: orange_total_demos_inflicted, dtype: int64"
      ]
     },
     "metadata": {},
     "execution_count": 105
    }
   ],
   "source": [
    "print(df['blue_total_demos_inflicted'].value_counts())\n",
    "df['orange_total_demos_inflicted'].value_counts()"
   ]
  },
  {
   "cell_type": "code",
   "execution_count": 113,
   "metadata": {},
   "outputs": [],
   "source": [
    "def welch_test_statistic(sample_1, sample_2):\n",
    "    numerator = np.mean(sample_1) - np.mean(sample_2)\n",
    "    denominator_sq = (np.var(sample_1) / len(sample_1)) + \\\n",
    "                        (np.var(sample_2) / len(sample_2))\n",
    "    return numerator / np.sqrt(denominator_sq)"
   ]
  },
  {
   "cell_type": "code",
   "execution_count": null,
   "metadata": {},
   "outputs": [],
   "source": []
  }
 ]
}