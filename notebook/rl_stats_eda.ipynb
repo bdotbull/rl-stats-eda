{
 "metadata": {
  "language_info": {
   "codemirror_mode": {
    "name": "ipython",
    "version": 3
   },
   "file_extension": ".py",
   "mimetype": "text/x-python",
   "name": "python",
   "nbconvert_exporter": "python",
   "pygments_lexer": "ipython3",
   "version": "3.7.9-final"
  },
  "orig_nbformat": 2,
  "kernelspec": {
   "name": "python3",
   "display_name": "Python 3"
  }
 },
 "nbformat": 4,
 "nbformat_minor": 2,
 "cells": [
  {
   "cell_type": "code",
   "execution_count": 20,
   "metadata": {},
   "outputs": [],
   "source": [
    "# rl-stats-eda notebook\n",
    "import os\n",
    "import sys\n",
    "sys.path.insert(0, os.path.abspath('../src'))\n",
    "import json\n",
    "import scraper as s"
   ]
  },
  {
   "cell_type": "code",
   "execution_count": 7,
   "metadata": {},
   "outputs": [
    {
     "output_type": "execute_result",
     "data": {
      "text/plain": [
       "200"
      ]
     },
     "metadata": {},
     "execution_count": 7
    }
   ],
   "source": [
    "s.ping_api()"
   ]
  },
  {
   "cell_type": "code",
   "execution_count": 10,
   "metadata": {},
   "outputs": [],
   "source": [
    "data = {\n",
    "        'pro': True,\n",
    "        'count' : 2\n",
    "}"
   ]
  },
  {
   "cell_type": "code",
   "execution_count": 35,
   "metadata": {
    "tags": []
   },
   "outputs": [],
   "source": [
    "one = s.get_replay_list(data)"
   ]
  },
  {
   "cell_type": "code",
   "execution_count": 40,
   "metadata": {
    "tags": []
   },
   "outputs": [
    {
     "output_type": "execute_result",
     "data": {
      "text/plain": [
       "'81f059e6-ea18-4725-a32e-2bf7d79c1d4a'"
      ]
     },
     "metadata": {},
     "execution_count": 40
    }
   ],
   "source": [
    "one_replay_id = one[\"list\"][0][\"id\"]\n",
    "one_replay_id"
   ]
  },
  {
   "cell_type": "code",
   "execution_count": 43,
   "metadata": {},
   "outputs": [],
   "source": [
    "one_replay_document = s.get_specific_replay(one_replay_id)"
   ]
  },
  {
   "cell_type": "code",
   "execution_count": 44,
   "metadata": {},
   "outputs": [
    {
     "output_type": "execute_result",
     "data": {
      "text/plain": [
       "dict_keys(['id', 'link', 'created', 'uploader', 'status', 'rocket_league_id', 'match_guid', 'title', 'map_code', 'match_type', 'team_size', 'playlist_id', 'duration', 'overtime', 'season', 'date', 'visibility', 'blue', 'orange', 'playlist_name', 'map_name'])"
      ]
     },
     "metadata": {},
     "execution_count": 44
    }
   ],
   "source": [
    "one_replay_document.keys()"
   ]
  },
  {
   "cell_type": "code",
   "execution_count": 56,
   "metadata": {},
   "outputs": [
    {
     "output_type": "stream",
     "name": "stdout",
     "text": [
      "0\n81f059e6-ea18-4725-a32e-2bf7d79c1d4a\n1\nd1774a8b-ca73-4702-9a49-450e1303c7c7\n2\nc8b45c26-f339-477d-b47f-3b810eb810d3\n3\n394d94fc-6e49-4192-ae7e-b7ae98de36e5\n4\n3f52a916-22c6-49f5-b146-0ecc011ac65c\n5\nc8cc412a-58c5-431c-a6e8-d22f2f306a9c\n6\n9f1086f6-977b-43a6-be27-da75a4e2f700\n7\nd23eb258-8f63-4341-9ffd-c66d63c5dcba\n8\nb2eb07cd-e7cf-4682-abe5-0a87b561ebfc\n9\na5833371-5421-488d-bfa9-d152b693ff9f\n10\n416c0e92-b38b-4f79-99d0-93cc354844e6\n11\nc80b6fee-7c29-4937-9a69-6f34cc193b78\n12\nf9415e77-3ca6-4df0-9fc9-8d94bf836102\n13\n8a8829f7-dec5-40bc-880c-b983e924eaf3\n14\ncd51a497-e750-48b6-98bf-5dd4600f5c8c\n15\ne80db830-454a-43bf-b987-799bb4b7287c\n16\n6bfa8748-676d-45b0-b15a-7c676cf78a91\n17\n8f9f63d1-e67f-46fa-8721-15c5509396c5\n18\n4b3810cf-b033-4267-8370-23a987ca600b\n19\n30be1623-1277-4b0b-870a-b6a9163862af\n20\n0dc6af36-2237-4509-8d36-1838b9192a62\n21\n83f340a8-9bfc-49a8-9089-ce5eaecd5e07\n22\n616a0fea-684b-4cc3-b5f8-34fe2fbcd088\n23\n8dc040c0-5c59-4117-8744-708b3a12e111\n24\nbcbcc90c-1002-498e-b510-385e5e6b5437\n25\ndcccc4b2-650f-425e-8520-d53810990b05\n26\n5568d624-5f19-474b-b58a-a2b0469b5a2d\n27\n7ece66ae-44d4-47c0-8c7c-1ce53cdc56ff\n28\n8cd005e2-18f3-48af-9378-8f0795373b27\n29\n53fa4a05-10ca-4757-8b3f-f731cbe14f32\n30\na167f2aa-3144-4123-ad2c-96bb11b72693\n31\nae73acd6-37c9-45b5-9ac7-2e029f51d37b\n32\n5945051d-6d11-4e10-a001-67c8903cecac\n33\n28d41ff1-09f0-4477-8125-4970b7befffc\n34\ncf958bf5-ce1f-4c66-9bd5-abbf20158f98\n35\n78a766ad-570c-4aac-9d28-505201a2fed9\n36\n00952cdc-4a7f-42bd-bde5-1cd6d246299e\n37\n0d0b9256-efd7-4708-ad49-cedd6fad49f3\n38\nfc634ec6-d92f-4e32-8e02-335133ee9614\n39\nd8b25384-a236-40e6-bc0d-6eb98abfcc78\n40\nc254262e-3d56-4c0c-8eb1-269724f7e9d2\n41\nbe3b9ea4-19e3-446b-92c1-5e32c8405efb\n42\ncc6900e1-f44d-448d-a5a3-e3fca9ca4122\n43\n547d616f-9cb8-470a-8c57-a9fb3ab1404c\n44\n71b1cbe9-feb7-407f-a0be-093ccf52f1db\n45\n0201c00b-15c5-410b-a532-e4638385f970\n46\n6880633d-dd2a-45c8-b93b-b6f15a7be9fa\n47\nb9ae28a8-f5cd-4ae1-af39-0795384a3a3f\n48\n4414cba5-d9f8-4a4b-997e-cbff288eac7a\n49\n7d6b88dd-d873-47cf-ad36-49f2bf69ff60\n"
     ]
    }
   ],
   "source": [
    "tmp = []\n",
    "\n",
    "for i,rep_id in enumerate(one[\"list\"]):\n",
    "    #print(f'{i}  {rep_id}'')\n",
    "    print(i)\n",
    "    print(one[\"list\"][i][\"id\"])\n",
    "    tmp.append(one[\"list\"][i][\"id\"])\n",
    "\n",
    "\n",
    "#one[\"list\"][2][\"id\"]"
   ]
  },
  {
   "cell_type": "code",
   "execution_count": 57,
   "metadata": {},
   "outputs": [
    {
     "output_type": "execute_result",
     "data": {
      "text/plain": [
       "50"
      ]
     },
     "metadata": {},
     "execution_count": 57
    }
   ],
   "source": [
    "len(tmp)"
   ]
  }
 ]
}