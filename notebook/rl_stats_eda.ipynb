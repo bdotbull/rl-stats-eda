{
 "metadata": {
  "language_info": {
   "codemirror_mode": {
    "name": "ipython",
    "version": 3
   },
   "file_extension": ".py",
   "mimetype": "text/x-python",
   "name": "python",
   "nbconvert_exporter": "python",
   "pygments_lexer": "ipython3",
   "version": "3.7.9-final"
  },
  "orig_nbformat": 2,
  "kernelspec": {
   "name": "python3",
   "display_name": "Python 3"
  }
 },
 "nbformat": 4,
 "nbformat_minor": 2,
 "cells": [
  {
   "cell_type": "code",
   "execution_count": 1,
   "metadata": {},
   "outputs": [],
   "source": [
    "# rl-stats-eda notebook\n",
    "# Import statements\n",
    "import os\n",
    "import sys\n",
    "sys.path.insert(0, os.path.abspath('../src'))\n",
    "import json\n",
    "import scraper as s\n",
    "import numpy as np\n",
    "import pandas as pd\n",
    "from pymongo import MongoClient\n",
    "from pymongo.errors import DuplicateKeyError\n",
    "\n",
    "# Define MongoDB database and collection\n",
    "db_client = MongoClient('localhost', 27017)\n",
    "db = db_client['rocket_league']\n",
    "rl_replays = db['rl_replays']"
   ]
  },
  {
   "cell_type": "code",
   "execution_count": 2,
   "metadata": {},
   "outputs": [
    {
     "output_type": "execute_result",
     "data": {
      "text/plain": [
       "200"
      ]
     },
     "metadata": {},
     "execution_count": 2
    }
   ],
   "source": [
    "s.ping_api()"
   ]
  },
  {
   "cell_type": "code",
   "execution_count": 3,
   "metadata": {
    "tags": []
   },
   "outputs": [],
   "source": [
    "data = {\n",
    "        'pro': True,\n",
    "    }\n",
    "\n",
    "one = s.get_replay_list(data)"
   ]
  },
  {
   "cell_type": "code",
   "execution_count": 4,
   "metadata": {
    "tags": []
   },
   "outputs": [
    {
     "output_type": "execute_result",
     "data": {
      "text/plain": [
       "'ec445128-32a2-4ef6-9010-ace19906f27a'"
      ]
     },
     "metadata": {},
     "execution_count": 4
    }
   ],
   "source": [
    "one_replay_id = one[\"list\"][0][\"id\"]\n",
    "one_replay_id"
   ]
  },
  {
   "cell_type": "code",
   "execution_count": 5,
   "metadata": {},
   "outputs": [],
   "source": [
    "one_replay_document = s.get_specific_replay(one_replay_id)"
   ]
  },
  {
   "cell_type": "code",
   "execution_count": 6,
   "metadata": {},
   "outputs": [
    {
     "output_type": "execute_result",
     "data": {
      "text/plain": [
       "dict_keys(['id', 'link', 'created', 'uploader', 'status', 'rocket_league_id', 'match_guid', 'title', 'map_code', 'match_type', 'team_size', 'playlist_id', 'duration', 'overtime', 'season', 'date', 'visibility', 'blue', 'orange', 'playlist_name', 'map_name'])"
      ]
     },
     "metadata": {},
     "execution_count": 6
    }
   ],
   "source": [
    "one_replay_document.keys()"
   ]
  },
  {
   "cell_type": "code",
   "execution_count": 7,
   "metadata": {},
   "outputs": [
    {
     "output_type": "stream",
     "name": "stdout",
     "text": [
      "0\nec445128-32a2-4ef6-9010-ace19906f27a\n1\n6ff4bbc8-c733-464e-b578-a7dfb27963cd\n2\n3a9dcba3-06fa-405e-8dbd-9c5b0db714d0\n3\nd87ccaf0-fcf6-4fbd-9341-b6867dae67e1\n4\n777beb96-3b50-424f-9f7d-86af0c208aac\n5\n7529df22-a8fb-4af4-969d-90d569703d66\n6\n1e2b1080-9a75-4426-aea9-dab613ad2f1a\n7\n0a0897b5-6023-4c8d-ac7a-8ad6c74d6a88\n8\n95cad081-bf96-4764-9ba8-b5ae39c9453c\n9\n8657d11c-077e-4744-bd41-1e8bcec6da94\n10\n0b5b2f83-6b0d-489f-b6d9-6ac96971fd86\n11\nca439e89-f620-434a-adfd-2bcf80402ff1\n12\nc5007de9-d203-4166-be47-2b8429ff2e94\n13\n84527319-21e7-4305-b246-283d49a9ad10\n14\nbc85def3-8c3b-4f8b-8115-5bd0bb67146c\n15\n80c1ec7b-9fcd-4519-8111-c70886f0b89e\n16\n5b0b969e-c1c7-4645-a138-bcab7611b206\n17\n497100d4-91e3-4193-91db-acab7426dec6\n18\n99860d21-3c94-4498-a888-f52d0d053775\n19\n54f414d5-fcd7-4655-98b8-01c50119cd7e\n20\n788d56f8-02e8-4bc5-9127-ebf5e680aed3\n21\nd84b8a4c-8365-4973-b2ec-991ef20da2cc\n22\n7f6bd3d9-25cd-4c49-bfe5-09ca6e4aaf70\n23\n858b353f-6996-4522-9724-54129a9b7933\n24\nf820fefa-61f5-4785-bc28-f4ecfe3972ee\n25\nd0af2a86-7b2c-4ad3-9fcc-fcda242f2d42\n26\ne70c73de-40c6-492c-bae4-cf2d3ef24cf6\n27\nd4c1707e-ef9e-440c-af37-6b205bc4992d\n28\n1398d071-b808-4144-978f-eaef239992e9\n29\nc6a23f2a-1b51-40f6-8509-b5faa124016c\n30\na0826d40-d8c4-4668-9f76-0a060cb9ba5d\n31\n1c467bb9-56c9-4fd4-adda-aedc4653d194\n32\n61b63cfe-611f-4c6d-a349-db8e63082e6f\n33\nffc052db-6cd2-4dcb-90b4-58b7e787bb4b\n34\nf1dda9f8-4ff2-4f81-86de-c37b96a56cb8\n35\n91e86625-2232-47a4-a6bd-50ceca3ffb04\n36\nc6a77877-b89f-4204-8461-5b304acdad7b\n37\ne64b8870-97ff-48f3-aa79-7f60e7e387ec\n38\nf0f7ce6c-2a8d-492b-b19b-c24da18eae99\n39\n703cfbf5-fc46-4bb6-94a5-1bd587f98939\n40\nea40f363-8517-4eef-aad3-9b9326ae275a\n41\nfb1df189-072b-44d6-acbb-d1d1a3c92293\n42\nfa76ad05-9902-42d1-a847-d953f0c3174c\n43\nd82efb64-8876-4676-a84c-a022286d373c\n44\nc873c768-698d-4faf-ba12-ab3d07a2361c\n45\nf379fa3d-bb88-4111-b49f-404182f90d92\n46\n67e288c0-30e9-4a3a-a1b4-211005215dd0\n47\n64da5a19-bae6-415a-97e8-f9da26c1c7e2\n48\nb81069a2-d70a-44c9-9997-021cec49a5c1\n49\n58609dfb-d86c-4a8e-a4f1-46f3ce14a4bc\n"
     ]
    }
   ],
   "source": [
    "tmp = []\n",
    "\n",
    "for i,rep_id in enumerate(one[\"list\"]):\n",
    "    #print(f'{i}  {rep_id}'')\n",
    "    print(i)\n",
    "    print(one[\"list\"][i][\"id\"])\n",
    "    tmp.append(one[\"list\"][i][\"id\"])\n",
    "\n",
    "\n",
    "#one[\"list\"][2][\"id\"]"
   ]
  },
  {
   "cell_type": "code",
   "execution_count": 8,
   "metadata": {},
   "outputs": [
    {
     "output_type": "execute_result",
     "data": {
      "text/plain": [
       "50"
      ]
     },
     "metadata": {},
     "execution_count": 8
    }
   ],
   "source": [
    "len(tmp)"
   ]
  },
  {
   "source": [
    "### MongoDB Testing"
   ],
   "cell_type": "markdown",
   "metadata": {}
  },
  {
   "cell_type": "code",
   "execution_count": 9,
   "metadata": {},
   "outputs": [
    {
     "output_type": "execute_result",
     "data": {
      "text/plain": [
       "162"
      ]
     },
     "metadata": {},
     "execution_count": 9
    }
   ],
   "source": [
    "db.rl_replays.count()"
   ]
  },
  {
   "cell_type": "code",
   "execution_count": 10,
   "metadata": {},
   "outputs": [],
   "source": [
    "test = db.rl_replays.find_one()\n",
    "test2 = db.rl_replays.find_one()"
   ]
  },
  {
   "cell_type": "code",
   "execution_count": 11,
   "metadata": {},
   "outputs": [
    {
     "output_type": "execute_result",
     "data": {
      "text/plain": [
       "dict_keys(['_id', 'id', 'link', 'created', 'uploader', 'status', 'rocket_league_id', 'match_guid', 'title', 'map_code', 'match_type', 'team_size', 'playlist_id', 'duration', 'overtime', 'overtime_seconds', 'season', 'date', 'visibility', 'blue', 'orange', 'playlist_name', 'map_name'])"
      ]
     },
     "metadata": {},
     "execution_count": 11
    }
   ],
   "source": [
    "test.keys()"
   ]
  },
  {
   "cell_type": "code",
   "execution_count": 12,
   "metadata": {},
   "outputs": [
    {
     "output_type": "execute_result",
     "data": {
      "text/plain": [
       "'\\nCurrently doing in memory, but would like to send data to collection\\n**FOR ONE ENTRY IN NEW COLLECTION**\\nGAME STATS:\\nreplay_id\\n\\nPLAYER STATS (initialized with mongo):\\nname, car_name, goals, demo_inflicted, demo_taken\\n \\n\\nTEAM STATS (created from PLAYER STATS in pandas):\\nblue_total_goals, blue_total_demos_inflicted, blue_total_demos_taken\\norange_total_goals, orange_total_demos_inflicted, orange_total_demos_taken\\n\\n'"
      ]
     },
     "metadata": {},
     "execution_count": 12
    }
   ],
   "source": [
    "\"\"\"\n",
    "Currently doing in memory, but would like to send data to collection\n",
    "**FOR ONE ENTRY IN NEW COLLECTION**\n",
    "GAME STATS:\n",
    "replay_id\n",
    "\n",
    "PLAYER STATS (initialized with mongo):\n",
    "name, car_name, goals, demo_inflicted, demo_taken\n",
    " \n",
    "\n",
    "TEAM STATS (created from PLAYER STATS in pandas):\n",
    "blue_total_goals, blue_total_demos_inflicted, blue_total_demos_taken\n",
    "orange_total_goals, orange_total_demos_inflicted, orange_total_demos_taken\n",
    "\n",
    "\"\"\""
   ]
  },
  {
   "cell_type": "code",
   "execution_count": 13,
   "metadata": {},
   "outputs": [
    {
     "output_type": "execute_result",
     "data": {
      "text/plain": [
       "20"
      ]
     },
     "metadata": {},
     "execution_count": 13
    }
   ],
   "source": [
    "subset = db.rl_replays.count() // 8\n",
    "# all_replays = db.rl_replays.count()    # working with subset for now\n",
    "\n",
    "subset"
   ]
  },
  {
   "cell_type": "code",
   "execution_count": 67,
   "metadata": {},
   "outputs": [
    {
     "output_type": "stream",
     "name": "stdout",
     "text": [
      "(162, 6)\n"
     ]
    },
    {
     "output_type": "execute_result",
     "data": {
      "text/plain": [
       "0"
      ]
     },
     "metadata": {},
     "execution_count": 67
    }
   ],
   "source": [
    "# get clean data from every replay\n",
    "\n",
    "\n",
    "df_cols = [\"blue_total_goals\",\n",
    "    \"blue_total_demos_inflicted\",\n",
    "    \"blue_total_demos_taken\",\n",
    "    \"orange_total_goals\",\n",
    "    \"orange_total_demos_inflicted\",\n",
    "    \"orange_total_demos_taken\"]\n",
    "\n",
    "r_data = np.zeros((db.rl_replays.count(), len(df_cols)))\n",
    "\n",
    "r_id = []\n",
    "\n",
    "\n",
    "print(r_data.shape)\n",
    "len(r_id)"
   ]
  },
  {
   "cell_type": "code",
   "execution_count": 68,
   "metadata": {},
   "outputs": [],
   "source": [
    "# get relevant info from database\n",
    "replay_cursor = db.rl_replays.find({}, \n",
    "    {\"_id\":1,\n",
    "    \"blue\":1,\n",
    "    \"orange\":1})\n"
   ]
  },
  {
   "cell_type": "code",
   "execution_count": 69,
   "metadata": {},
   "outputs": [
    {
     "output_type": "stream",
     "name": "stdout",
     "text": [
      "75\n"
     ]
    }
   ],
   "source": [
    "bad_data_row_nums = []\n",
    "\n",
    "for row,replay in enumerate(replay_cursor):\n",
    "    try:\n",
    "        r_id.append(str(replay['_id']))\n",
    "        # Get info for Blue Team\n",
    "        for player in replay[\"blue\"][\"players\"]:\n",
    "            r_data[row][0] += player[\"stats\"][\"core\"][\"goals\"]\n",
    "            r_data[row][1] += player[\"stats\"][\"demo\"][\"inflicted\"]\n",
    "            r_data[row][2] += player[\"stats\"][\"demo\"][\"taken\"]\n",
    "        # Get info for Orange Team\n",
    "        for player in replay[\"orange\"][\"players\"]:\n",
    "            r_data[row][3] += player[\"stats\"][\"core\"][\"goals\"]\n",
    "            r_data[row][4] += player[\"stats\"][\"demo\"][\"inflicted\"]\n",
    "            r_data[row][5] += player[\"stats\"][\"demo\"][\"taken\"]\n",
    "    except:\n",
    "        bad_data_row_nums.append(row)\n",
    "\n",
    "print(len(bad_data_row_nums))\n"
   ]
  },
  {
   "cell_type": "code",
   "execution_count": 81,
   "metadata": {},
   "outputs": [
    {
     "output_type": "stream",
     "name": "stdout",
     "text": [
      "Labdoman        Octane\nKAI        Octane\nSquishy Nugget        Fennec\nWoody        Octane\nDodongo        Octane\nkaducious        Octane\n"
     ]
    }
   ],
   "source": [
    "\"\"\"\n",
    "OLD TEST\n",
    "t_curs[0][\"blue\"][\"players\"]    # len 3\n",
    "\n",
    "for player in t_curs[0][\"blue\"][\"players\"]:\n",
    "    print(f'{player[\"name\"]}\\\n",
    "        {player[\"car_name\"]}')\n",
    "for player in t_curs[0][\"orange\"][\"players\"]:\n",
    "    print(f'{player[\"name\"]}\\\n",
    "        {player[\"car_name\"]}')\n",
    "\"\"\""
   ]
  },
  {
   "cell_type": "code",
   "execution_count": 70,
   "metadata": {},
   "outputs": [
    {
     "output_type": "execute_result",
     "data": {
      "text/plain": [
       "array([[ 4.,  1.,  4.,  3.,  4.,  1.],\n",
       "       [ 0.,  1.,  1.,  5.,  1.,  1.],\n",
       "       [ 7.,  0.,  0.,  4.,  0.,  0.],\n",
       "       [ 1.,  1.,  1.,  2.,  1.,  1.],\n",
       "       [ 2.,  1.,  6.,  1.,  6.,  1.],\n",
       "       [ 1.,  1.,  1.,  2.,  1.,  1.],\n",
       "       [ 1.,  2.,  3.,  3.,  3.,  2.],\n",
       "       [ 4.,  1.,  1.,  5.,  1.,  1.],\n",
       "       [ 4.,  4.,  0.,  3.,  0.,  4.],\n",
       "       [ 1.,  0.,  0.,  2.,  0.,  0.],\n",
       "       [ 7.,  0.,  1., 10.,  1.,  0.],\n",
       "       [ 2.,  2.,  2.,  1.,  2.,  2.],\n",
       "       [ 3.,  3.,  2.,  0.,  2.,  3.],\n",
       "       [ 3.,  3.,  2.,  0.,  2.,  3.],\n",
       "       [ 2.,  0.,  0.,  3.,  0.,  0.],\n",
       "       [ 0.,  0.,  0.,  4.,  0.,  0.],\n",
       "       [ 1.,  1.,  0.,  5.,  0.,  1.],\n",
       "       [ 6.,  1.,  1.,  5.,  1.,  1.],\n",
       "       [ 0.,  0.,  0.,  0.,  0.,  0.],\n",
       "       [ 0.,  1.,  3.,  1.,  3.,  1.],\n",
       "       [ 0.,  0.,  0.,  0.,  0.,  0.],\n",
       "       [ 0.,  1.,  3.,  1.,  3.,  1.],\n",
       "       [ 0.,  0.,  0.,  0.,  0.,  0.],\n",
       "       [ 0.,  1.,  1.,  5.,  1.,  1.],\n",
       "       [ 0.,  0.,  0.,  0.,  0.,  0.],\n",
       "       [ 6.,  0.,  1.,  2.,  1.,  0.],\n",
       "       [ 0.,  0.,  0.,  0.,  0.,  0.],\n",
       "       [ 0.,  1.,  1.,  5.,  1.,  1.],\n",
       "       [ 0.,  0.,  0.,  0.,  0.,  0.],\n",
       "       [ 0.,  0.,  0.,  0.,  0.,  0.],\n",
       "       [ 6.,  1.,  1.,  5.,  1.,  1.],\n",
       "       [ 6.,  0.,  3.,  2.,  3.,  0.],\n",
       "       [ 0.,  0.,  0.,  0.,  0.,  0.],\n",
       "       [ 5.,  0.,  2.,  2.,  2.,  0.],\n",
       "       [ 0.,  0.,  0.,  0.,  0.,  0.],\n",
       "       [ 2.,  1.,  0.,  0.,  0.,  1.],\n",
       "       [ 0.,  0.,  0.,  0.,  0.,  0.],\n",
       "       [ 0.,  0.,  0.,  0.,  0.,  0.],\n",
       "       [ 3.,  2.,  2.,  4.,  2.,  2.],\n",
       "       [ 0.,  0.,  0.,  0.,  0.,  0.],\n",
       "       [ 0.,  1.,  1.,  5.,  1.,  1.],\n",
       "       [ 0.,  0.,  0.,  0.,  0.,  0.],\n",
       "       [ 3.,  1.,  3.,  4.,  3.,  1.],\n",
       "       [ 0.,  0.,  0.,  0.,  0.,  0.],\n",
       "       [ 6.,  0.,  3.,  2.,  3.,  0.],\n",
       "       [ 0.,  0.,  0.,  0.,  0.,  0.],\n",
       "       [ 5.,  0.,  2.,  2.,  2.,  0.],\n",
       "       [ 0.,  0.,  0.,  0.,  0.,  0.],\n",
       "       [ 2.,  1.,  0.,  0.,  0.,  1.],\n",
       "       [ 0.,  0.,  0.,  0.,  0.,  0.],\n",
       "       [ 3.,  2.,  2.,  4.,  2.,  2.],\n",
       "       [ 0.,  0.,  0.,  0.,  0.,  0.],\n",
       "       [ 0.,  0.,  0.,  0.,  0.,  0.],\n",
       "       [ 4.,  1.,  1.,  5.,  1.,  1.],\n",
       "       [ 0.,  0.,  0.,  0.,  0.,  0.],\n",
       "       [ 4.,  4.,  0.,  3.,  0.,  4.],\n",
       "       [ 0.,  0.,  0.,  0.,  0.,  0.],\n",
       "       [ 1.,  0.,  0.,  2.,  0.,  0.],\n",
       "       [ 0.,  0.,  0.,  0.,  0.,  0.],\n",
       "       [ 7.,  0.,  1., 10.,  1.,  0.],\n",
       "       [ 0.,  0.,  0.,  0.,  0.,  0.],\n",
       "       [ 4.,  1.,  1.,  3.,  1.,  1.],\n",
       "       [ 0.,  0.,  0.,  0.,  0.,  0.],\n",
       "       [ 0.,  0.,  0.,  0.,  0.,  0.],\n",
       "       [ 2.,  0.,  0.,  2.,  0.,  0.],\n",
       "       [ 4.,  1.,  1.,  5.,  1.,  1.],\n",
       "       [ 0.,  0.,  0.,  0.,  0.,  0.],\n",
       "       [ 0.,  0.,  0.,  0.,  0.,  0.],\n",
       "       [ 2.,  2.,  7.,  3.,  7.,  2.],\n",
       "       [ 0.,  0.,  0.,  0.,  0.,  0.],\n",
       "       [ 2.,  2.,  4.,  3.,  4.,  2.],\n",
       "       [ 0.,  0.,  0.,  0.,  0.,  0.],\n",
       "       [ 8.,  2.,  0.,  5.,  0.,  2.],\n",
       "       [ 0.,  0.,  0.,  0.,  0.,  0.],\n",
       "       [ 4.,  3.,  1.,  5.,  1.,  3.],\n",
       "       [ 0.,  0.,  0.,  0.,  0.,  0.],\n",
       "       [ 4.,  3.,  1.,  5.,  1.,  3.],\n",
       "       [ 0.,  0.,  0.,  0.,  0.,  0.],\n",
       "       [ 5., 16., 13.,  4., 13., 16.],\n",
       "       [ 0.,  0.,  0.,  0.,  0.,  0.],\n",
       "       [ 5.,  0.,  0.,  1.,  0.,  0.],\n",
       "       [ 0.,  0.,  0.,  0.,  0.,  0.],\n",
       "       [ 0.,  0.,  0.,  0.,  0.,  0.],\n",
       "       [ 8.,  2.,  0.,  5.,  0.,  2.],\n",
       "       [ 0.,  0.,  0.,  0.,  0.,  0.],\n",
       "       [ 4.,  3.,  1.,  5.,  1.,  3.],\n",
       "       [ 0.,  0.,  0.,  0.,  0.,  0.],\n",
       "       [ 4.,  3.,  1.,  5.,  1.,  3.],\n",
       "       [ 0.,  0.,  0.,  0.,  0.,  0.],\n",
       "       [ 5., 16., 13.,  4., 13., 16.],\n",
       "       [ 0.,  0.,  0.,  0.,  0.,  0.],\n",
       "       [ 0.,  0.,  0.,  0.,  0.,  0.],\n",
       "       [ 3.,  2.,  0.,  5.,  0.,  2.],\n",
       "       [ 0.,  0.,  0.,  0.,  0.,  0.],\n",
       "       [ 4.,  1.,  2.,  3.,  2.,  1.],\n",
       "       [ 0.,  0.,  0.,  0.,  0.,  0.],\n",
       "       [ 3.,  2.,  0.,  5.,  0.,  2.],\n",
       "       [ 0.,  0.,  0.,  0.,  0.,  0.],\n",
       "       [ 4.,  2.,  0.,  2.,  0.,  2.],\n",
       "       [ 0.,  0.,  0.,  0.,  0.,  0.],\n",
       "       [ 0.,  0.,  0.,  0.,  0.,  0.],\n",
       "       [ 3.,  3.,  2.,  1.,  2.,  3.],\n",
       "       [ 3.,  2.,  0.,  5.,  0.,  2.],\n",
       "       [ 0.,  0.,  0.,  0.,  0.,  0.],\n",
       "       [ 4.,  1.,  2.,  3.,  2.,  1.],\n",
       "       [ 0.,  0.,  0.,  0.,  0.,  0.],\n",
       "       [ 0.,  0.,  0.,  0.,  0.,  0.],\n",
       "       [ 3.,  2.,  0.,  5.,  0.,  2.],\n",
       "       [ 4.,  2.,  0.,  2.,  0.,  2.],\n",
       "       [ 0.,  0.,  0.,  0.,  0.,  0.],\n",
       "       [ 3.,  3.,  2.,  1.,  2.,  3.],\n",
       "       [ 3.,  1.,  2.,  1.,  2.,  1.],\n",
       "       [ 0.,  0.,  0.,  0.,  0.,  0.],\n",
       "       [ 1.,  1.,  1.,  3.,  1.,  1.],\n",
       "       [ 1.,  1.,  0.,  3.,  0.,  1.],\n",
       "       [ 0.,  0.,  0.,  0.,  0.,  0.],\n",
       "       [ 0.,  1.,  0.,  3.,  0.,  1.],\n",
       "       [ 0.,  0.,  0.,  0.,  0.,  0.],\n",
       "       [ 0.,  1.,  0.,  3.,  0.,  1.],\n",
       "       [ 0.,  0.,  0.,  0.,  0.,  0.],\n",
       "       [ 3.,  2.,  2.,  2.,  2.,  2.],\n",
       "       [ 0.,  0.,  0.,  0.,  0.,  0.],\n",
       "       [ 3.,  2.,  2.,  2.,  2.,  2.],\n",
       "       [ 0.,  0.,  0.,  0.,  0.,  0.],\n",
       "       [ 1.,  1.,  0.,  4.,  0.,  1.],\n",
       "       [ 0.,  0.,  0.,  0.,  0.,  0.],\n",
       "       [ 1.,  0.,  2.,  5.,  2.,  0.],\n",
       "       [ 0.,  0.,  0.,  0.,  0.,  0.],\n",
       "       [ 2.,  3.,  3.,  3.,  3.,  3.],\n",
       "       [ 0.,  0.,  0.,  0.,  0.,  0.],\n",
       "       [ 0.,  0.,  0.,  0.,  0.,  0.],\n",
       "       [ 6.,  2.,  2.,  4.,  2.,  2.],\n",
       "       [ 3.,  0.,  0.,  2.,  0.,  0.],\n",
       "       [ 0.,  0.,  0.,  0.,  0.,  0.],\n",
       "       [ 0.,  0.,  0.,  0.,  0.,  0.],\n",
       "       [ 0.,  0.,  0.,  0.,  0.,  0.],\n",
       "       [ 0.,  0.,  0.,  0.,  0.,  0.],\n",
       "       [ 1.,  1.,  0.,  4.,  0.,  1.],\n",
       "       [ 0.,  0.,  0.,  0.,  0.,  0.],\n",
       "       [ 3.,  0.,  1.,  4.,  1.,  0.],\n",
       "       [ 0.,  0.,  0.,  0.,  0.,  0.],\n",
       "       [ 2.,  2.,  1.,  1.,  1.,  2.],\n",
       "       [ 5.,  3.,  1.,  2.,  1.,  3.],\n",
       "       [ 0.,  0.,  0.,  0.,  0.,  0.],\n",
       "       [ 3., 20., 11.,  4., 11., 20.],\n",
       "       [ 0.,  0.,  0.,  0.,  0.,  0.],\n",
       "       [ 0.,  0.,  0.,  0.,  0.,  0.],\n",
       "       [ 1.,  1.,  0.,  5.,  0.,  1.],\n",
       "       [ 0.,  0.,  0.,  0.,  0.,  0.],\n",
       "       [ 5.,  3.,  1.,  2.,  1.,  3.],\n",
       "       [ 3., 20., 11.,  4., 11., 20.],\n",
       "       [ 0.,  0.,  0.,  0.,  0.,  0.],\n",
       "       [ 0.,  0.,  0.,  0.,  0.,  0.],\n",
       "       [ 1.,  1.,  0.,  5.,  0.,  1.],\n",
       "       [ 0.,  0.,  0.,  0.,  0.,  0.],\n",
       "       [ 3.,  3.,  2.,  0.,  2.,  3.],\n",
       "       [ 0.,  0.,  0.,  0.,  0.,  0.],\n",
       "       [ 0.,  0.,  0.,  0.,  0.,  0.],\n",
       "       [ 0.,  0.,  0.,  0.,  0.,  0.],\n",
       "       [ 3.,  3.,  2.,  0.,  2.,  3.],\n",
       "       [ 3.,  3.,  2.,  0.,  2.,  3.],\n",
       "       [ 2.,  0.,  0.,  3.,  0.,  0.]])"
      ]
     },
     "metadata": {},
     "execution_count": 70
    }
   ],
   "source": [
    "r_data"
   ]
  },
  {
   "cell_type": "code",
   "execution_count": 64,
   "metadata": {},
   "outputs": [
    {
     "output_type": "execute_result",
     "data": {
      "text/plain": [
       "['5f99c559d3221fc02865826b',\n",
       " '5f99c55ad3221fc02865826c',\n",
       " '5f99c55ad3221fc02865826d',\n",
       " '5f99c55bd3221fc02865826e',\n",
       " '5f99c55bd3221fc02865826f',\n",
       " '5f99c55bd3221fc028658270',\n",
       " '5f99c55cd3221fc028658271',\n",
       " '5f99c55cd3221fc028658272',\n",
       " '5f99c55dd3221fc028658273',\n",
       " '5f99c55dd3221fc028658274',\n",
       " '5f99c55ed3221fc028658275',\n",
       " '5f99c57b63259b72a64fbf9c',\n",
       " '5f99c57b63259b72a64fbf9d',\n",
       " '5f99c57c63259b72a64fbf9e',\n",
       " '5f99c57c63259b72a64fbf9f',\n",
       " '5f99c57d63259b72a64fbfa0',\n",
       " '5f99c57d28c7c8b2c151b79c',\n",
       " '5f99c57d63259b72a64fbfa1',\n",
       " '5f99c57d28c7c8b2c151b79d',\n",
       " '5f99c57e63259b72a64fbfa2',\n",
       " '5f99c57e28c7c8b2c151b79e',\n",
       " '5f99c57e63259b72a64fbfa3',\n",
       " '5f99c57e28c7c8b2c151b79f',\n",
       " '5f99c57e63259b72a64fbfa4',\n",
       " '5f99c57f28c7c8b2c151b7a0',\n",
       " '5f99c57f63259b72a64fbfa5',\n",
       " '5f99c57f28c7c8b2c151b7a1',\n",
       " '5f99c58063259b72a64fbfa6',\n",
       " '5f99c58028c7c8b2c151b7a2',\n",
       " '5f99c58063259b72a64fbfa7',\n",
       " '5f99c58028c7c8b2c151b7a3',\n",
       " '5f99c58063259b72a64fbfa8',\n",
       " '5f99c58128c7c8b2c151b7a4',\n",
       " '5f99c58163259b72a64fbfa9',\n",
       " '5f99c58128c7c8b2c151b7a5',\n",
       " '5f99c58163259b72a64fbfaa',\n",
       " '5f99c58128c7c8b2c151b7a6',\n",
       " '5f99c58228c7c8b2c151b7a7',\n",
       " '5f99c58263259b72a64fbfab',\n",
       " '5f99c58263259b72a64fbfac',\n",
       " '5f99c58228c7c8b2c151b7a8',\n",
       " '5f99c58363259b72a64fbfad',\n",
       " '5f99c58328c7c8b2c151b7a9',\n",
       " '5f99c58363259b72a64fbfae',\n",
       " '5f99c58328c7c8b2c151b7aa',\n",
       " '5f99c58463259b72a64fbfaf',\n",
       " '5f99c58428c7c8b2c151b7ab',\n",
       " '5f99c58463259b72a64fbfb0',\n",
       " '5f99c58428c7c8b2c151b7ac',\n",
       " '5f99c58563259b72a64fbfb1',\n",
       " '5f99c58528c7c8b2c151b7ad',\n",
       " '5f99c58563259b72a64fbfb2',\n",
       " '5f99c58528c7c8b2c151b7ae',\n",
       " '5f99c58663259b72a64fbfb3',\n",
       " '5f99c58628c7c8b2c151b7af',\n",
       " '5f99c58663259b72a64fbfb4',\n",
       " '5f99c58628c7c8b2c151b7b0',\n",
       " '5f99c58763259b72a64fbfb5',\n",
       " '5f99c58728c7c8b2c151b7b1',\n",
       " '5f99c58763259b72a64fbfb6',\n",
       " '5f99c58728c7c8b2c151b7b2',\n",
       " '5f99c58763259b72a64fbfb7',\n",
       " '5f99c58828c7c8b2c151b7b3',\n",
       " '5f99c58828c7c8b2c151b7b4',\n",
       " '5f99c58863259b72a64fbfb8',\n",
       " '5f99c58828c7c8b2c151b7b5',\n",
       " '5f99c58863259b72a64fbfb9',\n",
       " '5f99c58928c7c8b2c151b7b6',\n",
       " '5f99c58963259b72a64fbfba',\n",
       " '5f99c58928c7c8b2c151b7b7',\n",
       " '5f99c58963259b72a64fbfbb',\n",
       " '5f99c58a28c7c8b2c151b7b8',\n",
       " '5f99c58a63259b72a64fbfbc',\n",
       " '5f99c58a28c7c8b2c151b7b9',\n",
       " '5f99c58a63259b72a64fbfbd',\n",
       " '5f99c58b28c7c8b2c151b7ba',\n",
       " '5f99c58b63259b72a64fbfbe',\n",
       " '5f99c58b28c7c8b2c151b7bb',\n",
       " '5f99c58b63259b72a64fbfbf',\n",
       " '5f99c58c28c7c8b2c151b7bc',\n",
       " '5f99c58c63259b72a64fbfc0',\n",
       " '5f99c58c28c7c8b2c151b7bd',\n",
       " '5f99c58c63259b72a64fbfc1',\n",
       " '5f99c58c28c7c8b2c151b7be',\n",
       " '5f99c58d63259b72a64fbfc2',\n",
       " '5f99c58d28c7c8b2c151b7bf',\n",
       " '5f99c58d63259b72a64fbfc3',\n",
       " '5f99c58d28c7c8b2c151b7c0',\n",
       " '5f99c58e63259b72a64fbfc4',\n",
       " '5f99c58e28c7c8b2c151b7c1',\n",
       " '5f99c58e63259b72a64fbfc5',\n",
       " '5f99c58e28c7c8b2c151b7c2',\n",
       " '5f99c58f63259b72a64fbfc6',\n",
       " '5f99c58f28c7c8b2c151b7c3',\n",
       " '5f99c58f63259b72a64fbfc7',\n",
       " '5f99c58f28c7c8b2c151b7c4',\n",
       " '5f99c59063259b72a64fbfc8',\n",
       " '5f99c59028c7c8b2c151b7c5',\n",
       " '5f99c59063259b72a64fbfc9',\n",
       " '5f99c59028c7c8b2c151b7c6',\n",
       " '5f99c59128c7c8b2c151b7c7',\n",
       " '5f99c59163259b72a64fbfca',\n",
       " '5f99c59128c7c8b2c151b7c8',\n",
       " '5f99c59163259b72a64fbfcb',\n",
       " '5f99c59228c7c8b2c151b7c9',\n",
       " '5f99c59263259b72a64fbfcc',\n",
       " '5f99c59263259b72a64fbfcd',\n",
       " '5f99c59228c7c8b2c151b7ca',\n",
       " '5f99c59328c7c8b2c151b7cb',\n",
       " '5f99c59363259b72a64fbfce',\n",
       " '5f99c59328c7c8b2c151b7cc',\n",
       " '5f99c59428c7c8b2c151b7cd',\n",
       " '5f99c59463259b72a64fbfcf',\n",
       " '5f99c59463259b72a64fbfd0',\n",
       " '5f99c59563259b72a64fbfd1',\n",
       " '5f99c59528c7c8b2c151b7ce',\n",
       " '5f99c59563259b72a64fbfd2',\n",
       " '5f99c59528c7c8b2c151b7cf',\n",
       " '5f99c59663259b72a64fbfd3',\n",
       " '5f99c59628c7c8b2c151b7d0',\n",
       " '5f99c59663259b72a64fbfd4',\n",
       " '5f99c59628c7c8b2c151b7d1',\n",
       " '5f99c59763259b72a64fbfd5',\n",
       " '5f99c59728c7c8b2c151b7d2',\n",
       " '5f99c59763259b72a64fbfd6',\n",
       " '5f99c59728c7c8b2c151b7d3',\n",
       " '5f99c59863259b72a64fbfd7',\n",
       " '5f99c59828c7c8b2c151b7d4',\n",
       " '5f99c59863259b72a64fbfd8',\n",
       " '5f99c59828c7c8b2c151b7d5',\n",
       " '5f99c59828c7c8b2c151b7d6',\n",
       " '5f99c59863259b72a64fbfd9',\n",
       " '5f99c59963259b72a64fbfda',\n",
       " '5f99c59928c7c8b2c151b7d7',\n",
       " '5f99c59963259b72a64fbfdb',\n",
       " '5f99c59928c7c8b2c151b7d8',\n",
       " '5f99c59a28c7c8b2c151b7d9',\n",
       " '5f99c59a63259b72a64fbfdc',\n",
       " '5f99c59a28c7c8b2c151b7da',\n",
       " '5f99c59a63259b72a64fbfdd',\n",
       " '5f99c59b63259b72a64fbfde',\n",
       " '5f99c59b28c7c8b2c151b7db',\n",
       " '5f99c59b63259b72a64fbfdf',\n",
       " '5f99c59b28c7c8b2c151b7dc',\n",
       " '5f99c59c63259b72a64fbfe0',\n",
       " '5f99c59c28c7c8b2c151b7dd',\n",
       " '5f99c59c28c7c8b2c151b7de',\n",
       " '5f99c59c63259b72a64fbfe1',\n",
       " '5f99c59d63259b72a64fbfe2',\n",
       " '5f99c59d28c7c8b2c151b7df',\n",
       " '5f99c59d28c7c8b2c151b7e0',\n",
       " '5f99c59d63259b72a64fbfe3',\n",
       " '5f99c59d63259b72a64fbfe4',\n",
       " '5f99c59d28c7c8b2c151b7e1',\n",
       " '5f99c59e28c7c8b2c151b7e2',\n",
       " '5f99c59e63259b72a64fbfe5',\n",
       " '5f99c59e28c7c8b2c151b7e3',\n",
       " '5f99c59e63259b72a64fbfe6',\n",
       " '5f99c59f63259b72a64fbfe7',\n",
       " '5f99c59f28c7c8b2c151b7e4',\n",
       " '5f99c59f28c7c8b2c151b7e5',\n",
       " '5f99c5a028c7c8b2c151b7e6']"
      ]
     },
     "metadata": {},
     "execution_count": 64
    }
   ],
   "source": [
    "r_id"
   ]
  },
  {
   "cell_type": "code",
   "execution_count": null,
   "metadata": {},
   "outputs": [],
   "source": []
  }
 ]
}