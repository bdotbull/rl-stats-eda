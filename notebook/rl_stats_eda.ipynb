{
 "metadata": {
  "language_info": {
   "codemirror_mode": {
    "name": "ipython",
    "version": 3
   },
   "file_extension": ".py",
   "mimetype": "text/x-python",
   "name": "python",
   "nbconvert_exporter": "python",
   "pygments_lexer": "ipython3",
   "version": "3.7.9-final"
  },
  "orig_nbformat": 2,
  "kernelspec": {
   "name": "python3",
   "display_name": "Python 3"
  }
 },
 "nbformat": 4,
 "nbformat_minor": 2,
 "cells": [
  {
   "cell_type": "code",
   "execution_count": 29,
   "metadata": {},
   "outputs": [],
   "source": [
    "# rl-stats-eda notebook\n",
    "# Import statements\n",
    "import os\n",
    "import sys\n",
    "sys.path.insert(0, os.path.abspath('../src'))\n",
    "import json\n",
    "import scraper as s\n",
    "import numpy as np\n",
    "import pandas as pd\n",
    "from pymongo import MongoClient\n",
    "from pymongo.errors import DuplicateKeyError\n",
    "\n",
    "# Define MongoDB database and collection\n",
    "db_client = MongoClient('localhost', 27017)\n",
    "db = db_client['rocket_league']\n",
    "rl_replays = db['rl_replays']"
   ]
  },
  {
   "cell_type": "code",
   "execution_count": 30,
   "metadata": {},
   "outputs": [
    {
     "output_type": "execute_result",
     "data": {
      "text/plain": [
       "200"
      ]
     },
     "metadata": {},
     "execution_count": 30
    }
   ],
   "source": [
    "s.ping_api()"
   ]
  },
  {
   "cell_type": "code",
   "execution_count": 31,
   "metadata": {
    "tags": []
   },
   "outputs": [],
   "source": [
    "data = {\n",
    "        'pro': True,\n",
    "    }\n",
    "\n",
    "one = s.get_replay_list(data)"
   ]
  },
  {
   "cell_type": "code",
   "execution_count": 32,
   "metadata": {
    "tags": []
   },
   "outputs": [
    {
     "output_type": "execute_result",
     "data": {
      "text/plain": [
       "'de63ecf8-9903-40c1-ab63-0d38d9e5c732'"
      ]
     },
     "metadata": {},
     "execution_count": 32
    }
   ],
   "source": [
    "one_replay_id = one[\"list\"][0][\"id\"]\n",
    "one_replay_id"
   ]
  },
  {
   "cell_type": "code",
   "execution_count": 33,
   "metadata": {},
   "outputs": [],
   "source": [
    "one_replay_document = s.get_specific_replay(one_replay_id)"
   ]
  },
  {
   "cell_type": "code",
   "execution_count": 34,
   "metadata": {},
   "outputs": [
    {
     "output_type": "execute_result",
     "data": {
      "text/plain": [
       "dict_keys(['id', 'link', 'created', 'uploader', 'status', 'rocket_league_id', 'match_guid', 'title', 'map_code', 'match_type', 'team_size', 'playlist_id', 'duration', 'overtime', 'season', 'date', 'visibility', 'blue', 'orange', 'playlist_name', 'map_name'])"
      ]
     },
     "metadata": {},
     "execution_count": 34
    }
   ],
   "source": [
    "one_replay_document.keys()"
   ]
  },
  {
   "cell_type": "code",
   "execution_count": 35,
   "metadata": {},
   "outputs": [
    {
     "output_type": "stream",
     "name": "stdout",
     "text": [
      "0\nde63ecf8-9903-40c1-ab63-0d38d9e5c732\n1\n1ecaa5b0-fc82-4879-9434-74dbc14cf944\n2\n34b8faae-a2b6-45d8-a48f-0e77f4b9a55e\n3\n6af2f503-6de6-4a87-a905-f9aa99849e66\n4\n2b7ee582-2f69-4ecf-af4d-b37a97db9a43\n5\n26175d9d-c7f8-4477-8308-ba6807040f43\n6\n895d4506-12fa-48ff-aabc-303d4273389d\n7\n73b9f9c2-33c8-45f1-927f-a764f0f3ff88\n8\nfad55edc-0811-4192-9b96-12a86795437a\n9\n9bae01c4-b936-417c-8ccf-fe8500721e06\n10\nf25d8a96-8ae6-439e-8b74-11aaee556e6b\n11\n790cd2da-1b72-4f90-bbd1-870b96a8400c\n12\nce368746-1c96-497d-92cf-333620843aa2\n13\nb8723bbe-0278-47b7-93a2-454e4ea788c5\n14\n66604290-e4d5-4ce0-bfaf-b7deeef8a027\n15\n7c8b2515-87cf-4b6d-9b63-0588cd01e427\n16\n43ed3b45-010e-4fea-89e9-72cd3fc0b92c\n17\n5ca8c94f-65ce-4f24-b5c4-3ee0bb80b0f1\n18\n86dde117-6904-41a0-8487-a23a430b0296\n19\n35af312f-5d0b-4bb7-b649-77c36293d3d1\n20\n8db4a93f-2c8c-4d1c-8acf-76ad3ab8e746\n21\nb0efe32e-d813-4a4c-a448-e58c63163865\n22\n75271e23-52f8-4607-8834-c8e00ec7623e\n23\n413f86ee-4e69-4671-b67b-8a6b2b5104df\n24\nea08f4db-5792-4897-a3ba-f68cef6def6f\n25\n8178c852-4bce-4245-ab3e-ab2dcc8f2bf8\n26\n1c142d52-6604-40ee-874f-0b98176d5f73\n27\na2f40f1a-d1e1-4eb1-8415-a8e5e9e9060e\n28\nd8ea0b1b-862c-430a-834e-1b2891eba5b6\n29\n06bd09d1-64c0-4674-a32f-d88c0c7e5b0d\n30\n7a04b93f-177d-4c01-8d36-ad14a48e1c38\n31\n052eff2c-ee0a-4d85-ac78-d26cff223ff2\n32\n0ab8daee-5323-400a-b578-11b10d116760\n33\n9af38153-263f-42ae-bbdf-7d89f5f47a05\n34\n775e15ac-aa32-4ac3-9442-590a09fc1a2f\n35\n65f50d9c-6ecb-4edb-84b4-784c6447ada0\n36\ne2a63a95-a4b9-4246-a87f-a32d3824170e\n37\n9c5e350d-4785-4916-8fe5-9c1b3c8ddbe8\n38\n5f3db08f-8d46-46ff-acca-077d35753bbb\n39\n5610b133-a6b2-4cca-ab50-06b9f0ce0946\n40\n31c27892-7040-4d12-997f-eb6409aaff3f\n41\n5e5c2de1-c4be-460d-a527-f8d7f470cc16\n42\n456da8d3-38c2-47da-b342-6e0eb7ccdfb0\n43\n3e2da3ab-f513-47fc-b6de-8c4fb11d09da\n44\na90b2c78-d324-4d82-8bc8-f94b390bf1bf\n45\nd6f417b3-04dd-46a9-8e87-6c52f84883b3\n46\n658ae669-5cfc-4e3d-b093-f070cf2e7d02\n47\nc8418168-b888-4cb0-b5a8-183ee35f09ba\n48\n7059bbf9-3e3f-4d60-b081-9d8c27441818\n49\n846697bd-42dc-4146-b0ea-bf276cb9dbf1\n"
     ]
    }
   ],
   "source": [
    "tmp = []\n",
    "\n",
    "for i,rep_id in enumerate(one[\"list\"]):\n",
    "    #print(f'{i}  {rep_id}'')\n",
    "    print(i)\n",
    "    print(one[\"list\"][i][\"id\"])\n",
    "    tmp.append(one[\"list\"][i][\"id\"])\n",
    "\n",
    "\n",
    "#one[\"list\"][2][\"id\"]"
   ]
  },
  {
   "cell_type": "code",
   "execution_count": 36,
   "metadata": {},
   "outputs": [
    {
     "output_type": "execute_result",
     "data": {
      "text/plain": [
       "50"
      ]
     },
     "metadata": {},
     "execution_count": 36
    }
   ],
   "source": [
    "len(tmp)"
   ]
  },
  {
   "source": [
    "### MongoDB Testing"
   ],
   "cell_type": "markdown",
   "metadata": {}
  },
  {
   "cell_type": "code",
   "execution_count": 37,
   "metadata": {},
   "outputs": [
    {
     "output_type": "execute_result",
     "data": {
      "text/plain": [
       "466"
      ]
     },
     "metadata": {},
     "execution_count": 37
    }
   ],
   "source": [
    "db.rl_replays.count()"
   ]
  },
  {
   "cell_type": "code",
   "execution_count": 38,
   "metadata": {},
   "outputs": [],
   "source": [
    "test = db.rl_replays.find_one()\n",
    "test2 = db.rl_replays.find_one()"
   ]
  },
  {
   "cell_type": "code",
   "execution_count": 39,
   "metadata": {},
   "outputs": [
    {
     "output_type": "execute_result",
     "data": {
      "text/plain": [
       "dict_keys(['_id', 'id', 'link', 'created', 'uploader', 'status', 'rocket_league_id', 'match_guid', 'title', 'map_code', 'match_type', 'team_size', 'playlist_id', 'duration', 'overtime', 'season', 'date', 'visibility', 'blue', 'orange', 'playlist_name', 'map_name'])"
      ]
     },
     "metadata": {},
     "execution_count": 39
    }
   ],
   "source": [
    "test.keys()"
   ]
  },
  {
   "cell_type": "code",
   "execution_count": 40,
   "metadata": {},
   "outputs": [
    {
     "output_type": "execute_result",
     "data": {
      "text/plain": [
       "'\\nCurrently doing in memory, but would like to send data to collection\\n**FOR ONE ENTRY IN NEW COLLECTION**\\nGAME STATS:\\nreplay_id\\n\\nPLAYER STATS (initialized with mongo):\\nname, car_name, goals, demo_inflicted, demo_taken\\n \\n\\nTEAM STATS (created from PLAYER STATS in pandas):\\nblue_total_goals, blue_total_demos_inflicted, blue_total_demos_taken\\norange_total_goals, orange_total_demos_inflicted, orange_total_demos_taken\\n\\n'"
      ]
     },
     "metadata": {},
     "execution_count": 40
    }
   ],
   "source": [
    "\"\"\"\n",
    "Currently doing in memory, but would like to send data to collection\n",
    "**FOR ONE ENTRY IN NEW COLLECTION**\n",
    "GAME STATS:\n",
    "replay_id\n",
    "\n",
    "PLAYER STATS (initialized with mongo):\n",
    "name, car_name, goals, demo_inflicted, demo_taken\n",
    " \n",
    "\n",
    "TEAM STATS (created from PLAYER STATS in pandas):\n",
    "blue_total_goals, blue_total_demos_inflicted, blue_total_demos_taken\n",
    "orange_total_goals, orange_total_demos_inflicted, orange_total_demos_taken\n",
    "\n",
    "\"\"\""
   ]
  },
  {
   "cell_type": "code",
   "execution_count": 41,
   "metadata": {},
   "outputs": [
    {
     "output_type": "execute_result",
     "data": {
      "text/plain": [
       "58"
      ]
     },
     "metadata": {},
     "execution_count": 41
    }
   ],
   "source": [
    "subset = db.rl_replays.count() // 8\n",
    "# all_replays = db.rl_replays.count()    # working with subset for now\n",
    "\n",
    "subset"
   ]
  },
  {
   "cell_type": "code",
   "execution_count": 42,
   "metadata": {},
   "outputs": [
    {
     "output_type": "stream",
     "name": "stdout",
     "text": [
      "(466, 6)\n"
     ]
    },
    {
     "output_type": "execute_result",
     "data": {
      "text/plain": [
       "466"
      ]
     },
     "metadata": {},
     "execution_count": 42
    }
   ],
   "source": [
    "# get clean data from every replay\n",
    "\n",
    "\n",
    "\n",
    "df_cols = [\"blue_total_goals\",\n",
    "    \"blue_total_demos_inflicted\",\n",
    "    \"blue_total_demos_taken\",\n",
    "    \"orange_total_goals\",\n",
    "    \"orange_total_demos_inflicted\",\n",
    "    \"orange_total_demos_taken\"]\n",
    "\n",
    "r_data = np.empty((db.rl_replays.count(), len(df_cols)))\n",
    "\n",
    "r_id = np.empty((r_data.shape[0]), dtype=str)\n",
    "\n",
    "\n",
    "print(r_data.shape)\n",
    "len(r_id)"
   ]
  },
  {
   "cell_type": "code",
   "execution_count": 47,
   "metadata": {},
   "outputs": [
    {
     "output_type": "execute_result",
     "data": {
      "text/plain": [
       "3"
      ]
     },
     "metadata": {},
     "execution_count": 47
    }
   ],
   "source": [
    "# get relevant info from database\n",
    "replay_cursor = db.rl_replays.find({}, \n",
    "    {\"_id\": 0,\n",
    "    \"id\":1,\n",
    "    \"blue\":1,\n",
    "    \"orange\":1})\n",
    "\n",
    "len(replay_cursor[0][\"blue\"][\"players\"])"
   ]
  },
  {
   "cell_type": "code",
   "execution_count": 17,
   "metadata": {},
   "outputs": [
    {
     "output_type": "error",
     "ename": "KeyError",
     "evalue": "'blue'",
     "traceback": [
      "\u001b[0;31m---------------------------------------------------------------------------\u001b[0m",
      "\u001b[0;31mKeyError\u001b[0m                                  Traceback (most recent call last)",
      "\u001b[0;32m<ipython-input-17-2c0d7d8778ad>\u001b[0m in \u001b[0;36m<module>\u001b[0;34m\u001b[0m\n\u001b[1;32m      3\u001b[0m \u001b[0;34m\u001b[0m\u001b[0m\n\u001b[1;32m      4\u001b[0m     \u001b[0;31m# Get info for Blue Team\u001b[0m\u001b[0;34m\u001b[0m\u001b[0;34m\u001b[0m\u001b[0;34m\u001b[0m\u001b[0m\n\u001b[0;32m----> 5\u001b[0;31m     \u001b[0;32mfor\u001b[0m \u001b[0mplayer\u001b[0m \u001b[0;32min\u001b[0m \u001b[0mreplay\u001b[0m\u001b[0;34m[\u001b[0m\u001b[0;34m\"blue\"\u001b[0m\u001b[0;34m]\u001b[0m\u001b[0;34m[\u001b[0m\u001b[0;34m\"players\"\u001b[0m\u001b[0;34m]\u001b[0m\u001b[0;34m:\u001b[0m\u001b[0;34m\u001b[0m\u001b[0;34m\u001b[0m\u001b[0m\n\u001b[0m\u001b[1;32m      6\u001b[0m         \u001b[0mr_data\u001b[0m\u001b[0;34m[\u001b[0m\u001b[0mrow\u001b[0m\u001b[0;34m]\u001b[0m\u001b[0;34m[\u001b[0m\u001b[0;36m0\u001b[0m\u001b[0;34m]\u001b[0m \u001b[0;34m+=\u001b[0m \u001b[0mplayer\u001b[0m\u001b[0;34m[\u001b[0m\u001b[0;34m\"stats\"\u001b[0m\u001b[0;34m]\u001b[0m\u001b[0;34m[\u001b[0m\u001b[0;34m\"core\"\u001b[0m\u001b[0;34m]\u001b[0m\u001b[0;34m[\u001b[0m\u001b[0;34m\"goals\"\u001b[0m\u001b[0;34m]\u001b[0m\u001b[0;34m\u001b[0m\u001b[0;34m\u001b[0m\u001b[0m\n\u001b[1;32m      7\u001b[0m         \u001b[0mr_data\u001b[0m\u001b[0;34m[\u001b[0m\u001b[0mrow\u001b[0m\u001b[0;34m]\u001b[0m\u001b[0;34m[\u001b[0m\u001b[0;36m1\u001b[0m\u001b[0;34m]\u001b[0m \u001b[0;34m+=\u001b[0m \u001b[0mplayer\u001b[0m\u001b[0;34m[\u001b[0m\u001b[0;34m\"stats\"\u001b[0m\u001b[0;34m]\u001b[0m\u001b[0;34m[\u001b[0m\u001b[0;34m\"demo\"\u001b[0m\u001b[0;34m]\u001b[0m\u001b[0;34m[\u001b[0m\u001b[0;34m\"inflicted\"\u001b[0m\u001b[0;34m]\u001b[0m\u001b[0;34m\u001b[0m\u001b[0;34m\u001b[0m\u001b[0m\n",
      "\u001b[0;31mKeyError\u001b[0m: 'blue'"
     ]
    }
   ],
   "source": [
    "for row,replay in enumerate(replay_cursor):\n",
    "    #r_id[0].join(replay[\"id\"])\n",
    "    \n",
    "    # Get info for Blue Team\n",
    "    for player in replay[\"blue\"][\"players\"]:\n",
    "        r_data[row][0] += player[\"stats\"][\"core\"][\"goals\"]\n",
    "        r_data[row][1] += player[\"stats\"][\"demo\"][\"inflicted\"]\n",
    "        r_data[row][2] += player[\"stats\"][\"demo\"][\"taken\"]\n",
    "    # Get info for Orange Team\n",
    "    for player in replay[\"orange\"][\"players\"]:\n",
    "        r_data[row][3] += player[\"stats\"][\"core\"][\"goals\"]\n",
    "        r_data[row][4] += player[\"stats\"][\"demo\"][\"inflicted\"]\n",
    "        r_data[row][5] += player[\"stats\"][\"demo\"][\"taken\"]\n"
   ]
  },
  {
   "cell_type": "code",
   "execution_count": 81,
   "metadata": {},
   "outputs": [
    {
     "output_type": "stream",
     "name": "stdout",
     "text": [
      "Labdoman        Octane\nKAI        Octane\nSquishy Nugget        Fennec\nWoody        Octane\nDodongo        Octane\nkaducious        Octane\n"
     ]
    }
   ],
   "source": [
    "\"\"\"\n",
    "OLD TEST\n",
    "t_curs[0][\"blue\"][\"players\"]    # len 3\n",
    "\n",
    "for player in t_curs[0][\"blue\"][\"players\"]:\n",
    "    print(f'{player[\"name\"]}\\\n",
    "        {player[\"car_name\"]}')\n",
    "for player in t_curs[0][\"orange\"][\"players\"]:\n",
    "    print(f'{player[\"name\"]}\\\n",
    "        {player[\"car_name\"]}')\n",
    "\"\"\""
   ]
  },
  {
   "cell_type": "code",
   "execution_count": 153,
   "metadata": {},
   "outputs": [
    {
     "output_type": "error",
     "ename": "InvalidOperation",
     "evalue": "cannot set options after executing query",
     "traceback": [
      "\u001b[0;31m---------------------------------------------------------------------------\u001b[0m",
      "\u001b[0;31mInvalidOperation\u001b[0m                          Traceback (most recent call last)",
      "\u001b[0;32m<ipython-input-153-c30d3112a19d>\u001b[0m in \u001b[0;36m<module>\u001b[0;34m\u001b[0m\n\u001b[1;32m      1\u001b[0m \u001b[0;31m#print(replay_cursor[0][\"blue\"][\"players\"][0][\"stats\"][\"core\"][\"goals\"])\u001b[0m\u001b[0;34m\u001b[0m\u001b[0;34m\u001b[0m\u001b[0;34m\u001b[0m\u001b[0m\n\u001b[1;32m      2\u001b[0m \u001b[0;31m#print(replay_cursor[0][\"blue\"][\"players\"][0][\"stats\"][\"demo\"])\u001b[0m\u001b[0;34m\u001b[0m\u001b[0;34m\u001b[0m\u001b[0;34m\u001b[0m\u001b[0m\n\u001b[0;32m----> 3\u001b[0;31m \u001b[0mprint\u001b[0m\u001b[0;34m(\u001b[0m\u001b[0mreplay_cursor\u001b[0m\u001b[0;34m[\u001b[0m\u001b[0;36m0\u001b[0m\u001b[0;34m]\u001b[0m\u001b[0;34m)\u001b[0m\u001b[0;34m\u001b[0m\u001b[0;34m\u001b[0m\u001b[0m\n\u001b[0m",
      "\u001b[0;32m~/anaconda3/lib/python3.7/site-packages/pymongo/cursor.py\u001b[0m in \u001b[0;36m__getitem__\u001b[0;34m(self, index)\u001b[0m\n\u001b[1;32m    610\u001b[0m           \u001b[0;34m-\u001b[0m\u001b[0;31m \u001b[0m\u001b[0;31m`\u001b[0m\u001b[0mindex\u001b[0m\u001b[0;31m`\u001b[0m\u001b[0;34m:\u001b[0m \u001b[0mAn\u001b[0m \u001b[0minteger\u001b[0m \u001b[0;32mor\u001b[0m \u001b[0mslice\u001b[0m \u001b[0mindex\u001b[0m \u001b[0mto\u001b[0m \u001b[0mbe\u001b[0m \u001b[0mapplied\u001b[0m \u001b[0mto\u001b[0m \u001b[0mthis\u001b[0m \u001b[0mcursor\u001b[0m\u001b[0;34m\u001b[0m\u001b[0;34m\u001b[0m\u001b[0m\n\u001b[1;32m    611\u001b[0m         \"\"\"\n\u001b[0;32m--> 612\u001b[0;31m         \u001b[0mself\u001b[0m\u001b[0;34m.\u001b[0m\u001b[0m__check_okay_to_chain\u001b[0m\u001b[0;34m(\u001b[0m\u001b[0;34m)\u001b[0m\u001b[0;34m\u001b[0m\u001b[0;34m\u001b[0m\u001b[0m\n\u001b[0m\u001b[1;32m    613\u001b[0m         \u001b[0mself\u001b[0m\u001b[0;34m.\u001b[0m\u001b[0m__empty\u001b[0m \u001b[0;34m=\u001b[0m \u001b[0;32mFalse\u001b[0m\u001b[0;34m\u001b[0m\u001b[0;34m\u001b[0m\u001b[0m\n\u001b[1;32m    614\u001b[0m         \u001b[0;32mif\u001b[0m \u001b[0misinstance\u001b[0m\u001b[0;34m(\u001b[0m\u001b[0mindex\u001b[0m\u001b[0;34m,\u001b[0m \u001b[0mslice\u001b[0m\u001b[0;34m)\u001b[0m\u001b[0;34m:\u001b[0m\u001b[0;34m\u001b[0m\u001b[0;34m\u001b[0m\u001b[0m\n",
      "\u001b[0;32m~/anaconda3/lib/python3.7/site-packages/pymongo/cursor.py\u001b[0m in \u001b[0;36m__check_okay_to_chain\u001b[0;34m(self)\u001b[0m\n\u001b[1;32m    399\u001b[0m         \"\"\"\n\u001b[1;32m    400\u001b[0m         \u001b[0;32mif\u001b[0m \u001b[0mself\u001b[0m\u001b[0;34m.\u001b[0m\u001b[0m__retrieved\u001b[0m \u001b[0;32mor\u001b[0m \u001b[0mself\u001b[0m\u001b[0;34m.\u001b[0m\u001b[0m__id\u001b[0m \u001b[0;32mis\u001b[0m \u001b[0;32mnot\u001b[0m \u001b[0;32mNone\u001b[0m\u001b[0;34m:\u001b[0m\u001b[0;34m\u001b[0m\u001b[0;34m\u001b[0m\u001b[0m\n\u001b[0;32m--> 401\u001b[0;31m             \u001b[0;32mraise\u001b[0m \u001b[0mInvalidOperation\u001b[0m\u001b[0;34m(\u001b[0m\u001b[0;34m\"cannot set options after executing query\"\u001b[0m\u001b[0;34m)\u001b[0m\u001b[0;34m\u001b[0m\u001b[0;34m\u001b[0m\u001b[0m\n\u001b[0m\u001b[1;32m    402\u001b[0m \u001b[0;34m\u001b[0m\u001b[0m\n\u001b[1;32m    403\u001b[0m     \u001b[0;32mdef\u001b[0m \u001b[0madd_option\u001b[0m\u001b[0;34m(\u001b[0m\u001b[0mself\u001b[0m\u001b[0;34m,\u001b[0m \u001b[0mmask\u001b[0m\u001b[0;34m)\u001b[0m\u001b[0;34m:\u001b[0m\u001b[0;34m\u001b[0m\u001b[0;34m\u001b[0m\u001b[0m\n",
      "\u001b[0;31mInvalidOperation\u001b[0m: cannot set options after executing query"
     ]
    }
   ],
   "source": [
    "#print(replay_cursor[0][\"blue\"][\"players\"][0][\"stats\"][\"core\"][\"goals\"])\n",
    "#print(replay_cursor[0][\"blue\"][\"players\"][0][\"stats\"][\"demo\"])\n",
    "#print(replay_cursor[0])"
   ]
  },
  {
   "cell_type": "code",
   "execution_count": null,
   "metadata": {},
   "outputs": [],
   "source": []
  }
 ]
}