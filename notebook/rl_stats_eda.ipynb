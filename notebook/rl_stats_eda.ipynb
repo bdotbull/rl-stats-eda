{
 "metadata": {
  "language_info": {
   "codemirror_mode": {
    "name": "ipython",
    "version": 3
   },
   "file_extension": ".py",
   "mimetype": "text/x-python",
   "name": "python",
   "nbconvert_exporter": "python",
   "pygments_lexer": "ipython3",
   "version": "3.7.9-final"
  },
  "orig_nbformat": 2,
  "kernelspec": {
   "name": "python3",
   "display_name": "Python 3"
  }
 },
 "nbformat": 4,
 "nbformat_minor": 2,
 "cells": [
  {
   "cell_type": "code",
   "execution_count": 66,
   "metadata": {},
   "outputs": [],
   "source": [
    "# rl-stats-eda notebook\n",
    "import os\n",
    "import sys\n",
    "sys.path.insert(0, os.path.abspath('../src'))\n",
    "import json\n",
    "import scraper as s\n",
    "from pymongo import MongoClient\n",
    "from pymongo.errors import DuplicateKeyError"
   ]
  },
  {
   "cell_type": "code",
   "execution_count": 7,
   "metadata": {},
   "outputs": [
    {
     "output_type": "execute_result",
     "data": {
      "text/plain": [
       "200"
      ]
     },
     "metadata": {},
     "execution_count": 7
    }
   ],
   "source": [
    "s.ping_api()"
   ]
  },
  {
   "cell_type": "code",
   "execution_count": 10,
   "metadata": {},
   "outputs": [],
   "source": [
    "data = {\n",
    "        'pro': True,\n",
    "        'count' : 2\n",
    "}"
   ]
  },
  {
   "cell_type": "code",
   "execution_count": 35,
   "metadata": {
    "tags": []
   },
   "outputs": [],
   "source": [
    "one = s.get_replay_list(data)"
   ]
  },
  {
   "cell_type": "code",
   "execution_count": 40,
   "metadata": {
    "tags": []
   },
   "outputs": [
    {
     "output_type": "execute_result",
     "data": {
      "text/plain": [
       "'81f059e6-ea18-4725-a32e-2bf7d79c1d4a'"
      ]
     },
     "metadata": {},
     "execution_count": 40
    }
   ],
   "source": [
    "one_replay_id = one[\"list\"][0][\"id\"]\n",
    "one_replay_id"
   ]
  },
  {
   "cell_type": "code",
   "execution_count": 43,
   "metadata": {},
   "outputs": [],
   "source": [
    "one_replay_document = s.get_specific_replay(one_replay_id)"
   ]
  },
  {
   "cell_type": "code",
   "execution_count": 44,
   "metadata": {},
   "outputs": [
    {
     "output_type": "execute_result",
     "data": {
      "text/plain": [
       "dict_keys(['id', 'link', 'created', 'uploader', 'status', 'rocket_league_id', 'match_guid', 'title', 'map_code', 'match_type', 'team_size', 'playlist_id', 'duration', 'overtime', 'season', 'date', 'visibility', 'blue', 'orange', 'playlist_name', 'map_name'])"
      ]
     },
     "metadata": {},
     "execution_count": 44
    }
   ],
   "source": [
    "one_replay_document.keys()"
   ]
  },
  {
   "cell_type": "code",
   "execution_count": 56,
   "metadata": {},
   "outputs": [
    {
     "output_type": "stream",
     "name": "stdout",
     "text": [
      "0\n81f059e6-ea18-4725-a32e-2bf7d79c1d4a\n1\nd1774a8b-ca73-4702-9a49-450e1303c7c7\n2\nc8b45c26-f339-477d-b47f-3b810eb810d3\n3\n394d94fc-6e49-4192-ae7e-b7ae98de36e5\n4\n3f52a916-22c6-49f5-b146-0ecc011ac65c\n5\nc8cc412a-58c5-431c-a6e8-d22f2f306a9c\n6\n9f1086f6-977b-43a6-be27-da75a4e2f700\n7\nd23eb258-8f63-4341-9ffd-c66d63c5dcba\n8\nb2eb07cd-e7cf-4682-abe5-0a87b561ebfc\n9\na5833371-5421-488d-bfa9-d152b693ff9f\n10\n416c0e92-b38b-4f79-99d0-93cc354844e6\n11\nc80b6fee-7c29-4937-9a69-6f34cc193b78\n12\nf9415e77-3ca6-4df0-9fc9-8d94bf836102\n13\n8a8829f7-dec5-40bc-880c-b983e924eaf3\n14\ncd51a497-e750-48b6-98bf-5dd4600f5c8c\n15\ne80db830-454a-43bf-b987-799bb4b7287c\n16\n6bfa8748-676d-45b0-b15a-7c676cf78a91\n17\n8f9f63d1-e67f-46fa-8721-15c5509396c5\n18\n4b3810cf-b033-4267-8370-23a987ca600b\n19\n30be1623-1277-4b0b-870a-b6a9163862af\n20\n0dc6af36-2237-4509-8d36-1838b9192a62\n21\n83f340a8-9bfc-49a8-9089-ce5eaecd5e07\n22\n616a0fea-684b-4cc3-b5f8-34fe2fbcd088\n23\n8dc040c0-5c59-4117-8744-708b3a12e111\n24\nbcbcc90c-1002-498e-b510-385e5e6b5437\n25\ndcccc4b2-650f-425e-8520-d53810990b05\n26\n5568d624-5f19-474b-b58a-a2b0469b5a2d\n27\n7ece66ae-44d4-47c0-8c7c-1ce53cdc56ff\n28\n8cd005e2-18f3-48af-9378-8f0795373b27\n29\n53fa4a05-10ca-4757-8b3f-f731cbe14f32\n30\na167f2aa-3144-4123-ad2c-96bb11b72693\n31\nae73acd6-37c9-45b5-9ac7-2e029f51d37b\n32\n5945051d-6d11-4e10-a001-67c8903cecac\n33\n28d41ff1-09f0-4477-8125-4970b7befffc\n34\ncf958bf5-ce1f-4c66-9bd5-abbf20158f98\n35\n78a766ad-570c-4aac-9d28-505201a2fed9\n36\n00952cdc-4a7f-42bd-bde5-1cd6d246299e\n37\n0d0b9256-efd7-4708-ad49-cedd6fad49f3\n38\nfc634ec6-d92f-4e32-8e02-335133ee9614\n39\nd8b25384-a236-40e6-bc0d-6eb98abfcc78\n40\nc254262e-3d56-4c0c-8eb1-269724f7e9d2\n41\nbe3b9ea4-19e3-446b-92c1-5e32c8405efb\n42\ncc6900e1-f44d-448d-a5a3-e3fca9ca4122\n43\n547d616f-9cb8-470a-8c57-a9fb3ab1404c\n44\n71b1cbe9-feb7-407f-a0be-093ccf52f1db\n45\n0201c00b-15c5-410b-a532-e4638385f970\n46\n6880633d-dd2a-45c8-b93b-b6f15a7be9fa\n47\nb9ae28a8-f5cd-4ae1-af39-0795384a3a3f\n48\n4414cba5-d9f8-4a4b-997e-cbff288eac7a\n49\n7d6b88dd-d873-47cf-ad36-49f2bf69ff60\n"
     ]
    }
   ],
   "source": [
    "tmp = []\n",
    "\n",
    "for i,rep_id in enumerate(one[\"list\"]):\n",
    "    #print(f'{i}  {rep_id}'')\n",
    "    print(i)\n",
    "    print(one[\"list\"][i][\"id\"])\n",
    "    tmp.append(one[\"list\"][i][\"id\"])\n",
    "\n",
    "\n",
    "#one[\"list\"][2][\"id\"]"
   ]
  },
  {
   "cell_type": "code",
   "execution_count": 57,
   "metadata": {},
   "outputs": [
    {
     "output_type": "execute_result",
     "data": {
      "text/plain": [
       "50"
      ]
     },
     "metadata": {},
     "execution_count": 57
    }
   ],
   "source": [
    "len(tmp)"
   ]
  },
  {
   "cell_type": "code",
   "execution_count": 67,
   "metadata": {},
   "outputs": [],
   "source": [
    "# Mongo Testing\n",
    "\n",
    "# Define MongoDB database and collection\n",
    "db_client = MongoClient('localhost', 27017)\n",
    "db = db_client['rocket_league']\n",
    "collection = db['rl_replays']"
   ]
  },
  {
   "cell_type": "code",
   "execution_count": 77,
   "metadata": {},
   "outputs": [
    {
     "output_type": "execute_result",
     "data": {
      "text/plain": [
       "dict_keys(['_id', 'id', 'link', 'created', 'uploader', 'status', 'rocket_league_id', 'match_guid', 'title', 'map_code', 'match_type', 'team_size', 'playlist_id', 'duration', 'overtime', 'season', 'date', 'visibility', 'blue', 'orange', 'playlist_name', 'map_name'])"
      ]
     },
     "metadata": {},
     "execution_count": 77
    }
   ],
   "source": [
    "first = collection.find()\n",
    "first[0].keys()"
   ]
  },
  {
   "cell_type": "code",
   "execution_count": 78,
   "metadata": {},
   "outputs": [
    {
     "output_type": "execute_result",
     "data": {
      "text/plain": [
       "{'color': 'blue',\n",
       " 'players': [{'start_time': 0,\n",
       "   'end_time': 351.87775,\n",
       "   'name': 'Labdoman',\n",
       "   'id': {'platform': 'epic', 'id': '29f70024c6264b53b21fed1d55484238'},\n",
       "   'mvp': True,\n",
       "   'car_id': 23,\n",
       "   'car_name': 'Octane',\n",
       "   'camera': {'fov': 110,\n",
       "    'height': 100,\n",
       "    'pitch': -3,\n",
       "    'distance': 310,\n",
       "    'stiffness': 0.75,\n",
       "    'swivel_speed': 5,\n",
       "    'transition_speed': 1.5},\n",
       "   'steering_sensitivity': 1.05,\n",
       "   'stats': {'core': {'shots': 3,\n",
       "     'shots_against': 4,\n",
       "     'goals': 2,\n",
       "     'goals_against': 2,\n",
       "     'saves': 1,\n",
       "     'assists': 1,\n",
       "     'score': 469,\n",
       "     'mvp': True,\n",
       "     'shooting_percentage': 66.666664},\n",
       "    'boost': {'bpm': 292,\n",
       "     'bcpm': 327.972,\n",
       "     'avg_amount': 57.34,\n",
       "     'amount_collected': 1825,\n",
       "     'amount_stolen': 465,\n",
       "     'amount_collected_big': 1477,\n",
       "     'amount_stolen_big': 319,\n",
       "     'amount_collected_small': 348,\n",
       "     'amount_stolen_small': 146,\n",
       "     'count_collected_big': 18,\n",
       "     'count_stolen_big': 4,\n",
       "     'count_collected_small': 31,\n",
       "     'count_stolen_small': 13,\n",
       "     'amount_overfill': 336,\n",
       "     'amount_overfill_stolen': 90,\n",
       "     'amount_used_while_supersonic': 171,\n",
       "     'time_zero_boost': 12.3,\n",
       "     'percent_zero_boost': 3.6840687,\n",
       "     'time_full_boost': 80.91,\n",
       "     'percent_full_boost': 24.233986,\n",
       "     'time_boost_0_25': 45.03,\n",
       "     'time_boost_25_50': 70.48,\n",
       "     'time_boost_50_75': 103.35,\n",
       "     'time_boost_75_100': 102.4,\n",
       "     'percent_boost_0_25': 14.016684,\n",
       "     'percent_boost_25_50': 21.938618,\n",
       "     'percent_boost_50_75': 32.170204,\n",
       "     'percent_boost_75_100': 31.874493},\n",
       "    'movement': {'avg_speed': 1415,\n",
       "     'total_distance': 462730,\n",
       "     'time_supersonic_speed': 17.99,\n",
       "     'time_boost_speed': 131.99,\n",
       "     'time_slow_speed': 199.37,\n",
       "     'time_ground': 245.95,\n",
       "     'time_low_air': 88.6,\n",
       "     'time_high_air': 14.8,\n",
       "     'time_powerslide': 4.87,\n",
       "     'count_powerslide': 34,\n",
       "     'avg_powerslide_duration': 0.14,\n",
       "     'avg_speed_percentage': 61.52174,\n",
       "     'percent_slow_speed': 57.068848,\n",
       "     'percent_boost_speed': 37.7816,\n",
       "     'percent_supersonic_speed': 5.149564,\n",
       "     'percent_ground': 70.40218,\n",
       "     'percent_low_air': 25.361387,\n",
       "     'percent_high_air': 4.236439},\n",
       "    'positioning': {'avg_distance_to_ball': 3265,\n",
       "     'avg_distance_to_ball_possession': 3124,\n",
       "     'avg_distance_to_ball_no_possession': 3457,\n",
       "     'avg_distance_to_mates': 3857,\n",
       "     'time_defensive_third': 145.6,\n",
       "     'time_neutral_third': 113.41,\n",
       "     'time_offensive_third': 90.34,\n",
       "     'time_defensive_half': 200.4,\n",
       "     'time_offensive_half': 148.95,\n",
       "     'time_behind_ball': 264.19,\n",
       "     'time_infront_ball': 85.16,\n",
       "     'time_most_back': 101.4,\n",
       "     'time_most_forward': 101.7,\n",
       "     'time_closest_to_ball': 105.9,\n",
       "     'time_farthest_from_ball': 117,\n",
       "     'percent_defensive_third': 41.677402,\n",
       "     'percent_offensive_third': 25.859453,\n",
       "     'percent_neutral_third': 32.463146,\n",
       "     'percent_defensive_half': 57.363678,\n",
       "     'percent_offensive_half': 42.636326,\n",
       "     'percent_behind_ball': 75.6233,\n",
       "     'percent_infront_ball': 24.3767,\n",
       "     'percent_most_back': 30.371103,\n",
       "     'percent_most_forward': 30.460958,\n",
       "     'percent_closest_to_ball': 31.718933,\n",
       "     'percent_farthest_from_ball': 35.04358},\n",
       "    'demo': {'inflicted': 0, 'taken': 0}}},\n",
       "  {'start_time': 0,\n",
       "   'end_time': 351.87775,\n",
       "   'name': 'KAI',\n",
       "   'id': {'platform': 'steam', 'id': '76561198162446189'},\n",
       "   'car_id': 23,\n",
       "   'car_name': 'Octane',\n",
       "   'camera': {'fov': 110,\n",
       "    'height': 110,\n",
       "    'pitch': -4,\n",
       "    'distance': 290,\n",
       "    'stiffness': 0.5,\n",
       "    'swivel_speed': 3.5,\n",
       "    'transition_speed': 1.2},\n",
       "   'steering_sensitivity': 1,\n",
       "   'stats': {'core': {'shots': 3,\n",
       "     'shots_against': 4,\n",
       "     'goals': 1,\n",
       "     'goals_against': 2,\n",
       "     'saves': 0,\n",
       "     'assists': 1,\n",
       "     'score': 338,\n",
       "     'mvp': False,\n",
       "     'shooting_percentage': 33.333332},\n",
       "    'boost': {'bpm': 299,\n",
       "     'bcpm': 332.82416,\n",
       "     'avg_amount': 54.65,\n",
       "     'amount_collected': 1852,\n",
       "     'amount_stolen': 462,\n",
       "     'amount_collected_big': 1552,\n",
       "     'amount_stolen_big': 352,\n",
       "     'amount_collected_small': 300,\n",
       "     'amount_stolen_small': 110,\n",
       "     'count_collected_big': 17,\n",
       "     'count_stolen_big': 4,\n",
       "     'count_collected_small': 27,\n",
       "     'count_stolen_small': 11,\n",
       "     'amount_overfill': 172,\n",
       "     'amount_overfill_stolen': 68,\n",
       "     'amount_used_while_supersonic': 345,\n",
       "     'time_zero_boost': 37.69,\n",
       "     'percent_zero_boost': 11.288824,\n",
       "     'time_full_boost': 76.81,\n",
       "     'percent_full_boost': 23.00596,\n",
       "     'time_boost_0_25': 66.05,\n",
       "     'time_boost_25_50': 66.01,\n",
       "     'time_boost_50_75': 80.05,\n",
       "     'time_boost_75_100': 127.2,\n",
       "     'percent_boost_0_25': 19.465977,\n",
       "     'percent_boost_25_50': 19.454187,\n",
       "     'percent_boost_50_75': 23.591997,\n",
       "     'percent_boost_75_100': 37.487843},\n",
       "    'movement': {'avg_speed': 1392,\n",
       "     'total_distance': 455982,\n",
       "     'time_supersonic_speed': 31.59,\n",
       "     'time_boost_speed': 119.38,\n",
       "     'time_slow_speed': 200.31,\n",
       "     'time_ground': 217.19,\n",
       "     'time_low_air': 126.69,\n",
       "     'time_high_air': 7.39,\n",
       "     'time_powerslide': 2.98,\n",
       "     'count_powerslide': 20,\n",
       "     'avg_powerslide_duration': 0.15,\n",
       "     'avg_speed_percentage': 60.52174,\n",
       "     'percent_slow_speed': 57.02289,\n",
       "     'percent_boost_speed': 33.984287,\n",
       "     'percent_supersonic_speed': 8.992826,\n",
       "     'percent_ground': 61.82993,\n",
       "     'percent_low_air': 36.066273,\n",
       "     'percent_high_air': 2.1037946},\n",
       "    'positioning': {'avg_distance_to_ball': 2784,\n",
       "     'avg_distance_to_ball_possession': 2687,\n",
       "     'avg_distance_to_ball_no_possession': 2931,\n",
       "     'avg_distance_to_mates': 3783,\n",
       "     'time_defensive_third': 124.56,\n",
       "     'time_neutral_third': 126.18,\n",
       "     'time_offensive_third': 100.53,\n",
       "     'time_defensive_half': 183.36,\n",
       "     'time_offensive_half': 167.91,\n",
       "     'time_behind_ball': 231.49,\n",
       "     'time_infront_ball': 119.78,\n",
       "     'time_most_back': 68.5,\n",
       "     'time_most_forward': 152.2,\n",
       "     'goals_against_while_last_defender': 1,\n",
       "     'time_closest_to_ball': 140.4,\n",
       "     'time_farthest_from_ball': 86,\n",
       "     'percent_defensive_third': 35.459904,\n",
       "     'percent_offensive_third': 28.619013,\n",
       "     'percent_neutral_third': 35.92109,\n",
       "     'percent_defensive_half': 52.19916,\n",
       "     'percent_offensive_half': 47.800835,\n",
       "     'percent_behind_ball': 65.90087,\n",
       "     'percent_infront_ball': 34.099125,\n",
       "     'percent_most_back': 20.516968,\n",
       "     'percent_most_forward': 45.586605,\n",
       "     'percent_closest_to_ball': 42.05229,\n",
       "     'percent_farthest_from_ball': 25.75853},\n",
       "    'demo': {'inflicted': 0, 'taken': 0}}},\n",
       "  {'start_time': 0,\n",
       "   'end_time': 351.87775,\n",
       "   'name': 'Squishy Nugget',\n",
       "   'id': {'platform': 'steam', 'id': '76561198149313118'},\n",
       "   'car_id': 4284,\n",
       "   'car_name': 'Fennec',\n",
       "   'camera': {'fov': 110,\n",
       "    'height': 100,\n",
       "    'pitch': 0,\n",
       "    'distance': 270,\n",
       "    'stiffness': 0.6,\n",
       "    'swivel_speed': 4.7,\n",
       "    'transition_speed': 1.2},\n",
       "   'steering_sensitivity': 1,\n",
       "   'stats': {'core': {'shots': 2,\n",
       "     'shots_against': 4,\n",
       "     'goals': 0,\n",
       "     'goals_against': 2,\n",
       "     'saves': 0,\n",
       "     'assists': 0,\n",
       "     'score': 148,\n",
       "     'mvp': False,\n",
       "     'shooting_percentage': 0},\n",
       "    'boost': {'bpm': 186,\n",
       "     'bcpm': 224.63834,\n",
       "     'avg_amount': 67.8,\n",
       "     'amount_collected': 1250,\n",
       "     'amount_stolen': 266,\n",
       "     'amount_collected_big': 974,\n",
       "     'amount_stolen_big': 170,\n",
       "     'amount_collected_small': 276,\n",
       "     'amount_stolen_small': 96,\n",
       "     'count_collected_big': 16,\n",
       "     'count_stolen_big': 3,\n",
       "     'count_collected_small': 27,\n",
       "     'count_stolen_small': 8,\n",
       "     'amount_overfill': 669,\n",
       "     'amount_overfill_stolen': 129,\n",
       "     'amount_used_while_supersonic': 26,\n",
       "     'time_zero_boost': 8.34,\n",
       "     'percent_zero_boost': 2.4979782,\n",
       "     'time_full_boost': 95.37,\n",
       "     'percent_full_boost': 28.56501,\n",
       "     'time_boost_0_25': 30.21,\n",
       "     'time_boost_25_50': 46.43,\n",
       "     'time_boost_50_75': 58.54,\n",
       "     'time_boost_75_100': 165.8,\n",
       "     'percent_boost_0_25': 10.037212,\n",
       "     'percent_boost_25_50': 15.426275,\n",
       "     'percent_boost_50_75': 19.449799,\n",
       "     'percent_boost_75_100': 55.08672},\n",
       "    'movement': {'avg_speed': 1340,\n",
       "     'total_distance': 441376,\n",
       "     'time_supersonic_speed': 8.72,\n",
       "     'time_boost_speed': 134.89,\n",
       "     'time_slow_speed': 207.73,\n",
       "     'time_ground': 249.31,\n",
       "     'time_low_air': 97.8,\n",
       "     'time_high_air': 4.24,\n",
       "     'time_powerslide': 3.22,\n",
       "     'count_powerslide': 19,\n",
       "     'avg_powerslide_duration': 0.17,\n",
       "     'avg_speed_percentage': 58.260868,\n",
       "     'percent_slow_speed': 59.125065,\n",
       "     'percent_boost_speed': 38.39301,\n",
       "     'percent_supersonic_speed': 2.4819264,\n",
       "     'percent_ground': 70.95774,\n",
       "     'percent_low_air': 27.835493,\n",
       "     'percent_high_air': 1.2067739},\n",
       "    'positioning': {'avg_distance_to_ball': 3486,\n",
       "     'avg_distance_to_ball_possession': 3580,\n",
       "     'avg_distance_to_ball_no_possession': 3365,\n",
       "     'avg_distance_to_mates': 3991,\n",
       "     'time_defensive_third': 167.27,\n",
       "     'time_neutral_third': 127.96,\n",
       "     'time_offensive_third': 56.12,\n",
       "     'time_defensive_half': 233.3,\n",
       "     'time_offensive_half': 118.04,\n",
       "     'time_behind_ball': 282.72,\n",
       "     'time_infront_ball': 68.62,\n",
       "     'time_most_back': 166.8,\n",
       "     'time_most_forward': 81.8,\n",
       "     'goals_against_while_last_defender': 1,\n",
       "     'time_closest_to_ball': 88.1,\n",
       "     'time_farthest_from_ball': 134.5,\n",
       "     'percent_defensive_third': 47.6078,\n",
       "     'percent_offensive_third': 15.972676,\n",
       "     'percent_neutral_third': 36.419525,\n",
       "     'percent_defensive_half': 66.402916,\n",
       "     'percent_offensive_half': 33.597084,\n",
       "     'percent_behind_ball': 80.46906,\n",
       "     'percent_infront_ball': 19.530941,\n",
       "     'percent_most_back': 49.959564,\n",
       "     'percent_most_forward': 24.500555,\n",
       "     'percent_closest_to_ball': 26.387516,\n",
       "     'percent_farthest_from_ball': 40.28514},\n",
       "    'demo': {'inflicted': 0, 'taken': 0}}}],\n",
       " 'stats': {'ball': {'possession_time': 162.36, 'time_in_side': 130.73},\n",
       "  'core': {'shots': 8,\n",
       "   'shots_against': 4,\n",
       "   'goals': 3,\n",
       "   'goals_against': 2,\n",
       "   'saves': 1,\n",
       "   'assists': 2,\n",
       "   'score': 955,\n",
       "   'shooting_percentage': 37.5},\n",
       "  'boost': {'bpm': 777,\n",
       "   'bcpm': 885.43445,\n",
       "   'avg_amount': 179.79001,\n",
       "   'amount_collected': 4927,\n",
       "   'amount_stolen': 1193,\n",
       "   'amount_collected_big': 4003,\n",
       "   'amount_stolen_big': 841,\n",
       "   'amount_collected_small': 924,\n",
       "   'amount_stolen_small': 352,\n",
       "   'count_collected_big': 51,\n",
       "   'count_stolen_big': 11,\n",
       "   'count_collected_small': 85,\n",
       "   'count_stolen_small': 32,\n",
       "   'amount_overfill': 1177,\n",
       "   'amount_overfill_stolen': 287,\n",
       "   'amount_used_while_supersonic': 542,\n",
       "   'time_zero_boost': 58.329998,\n",
       "   'time_full_boost': 253.09,\n",
       "   'time_boost_0_25': 141.29001,\n",
       "   'time_boost_25_50': 182.92001,\n",
       "   'time_boost_50_75': 241.94,\n",
       "   'time_boost_75_100': 395.40002},\n",
       "  'movement': {'total_distance': 1360088,\n",
       "   'time_supersonic_speed': 58.300003,\n",
       "   'time_boost_speed': 386.26,\n",
       "   'time_slow_speed': 607.41,\n",
       "   'time_ground': 712.45,\n",
       "   'time_low_air': 313.09003,\n",
       "   'time_high_air': 26.43,\n",
       "   'time_powerslide': 11.07,\n",
       "   'count_powerslide': 73},\n",
       "  'positioning': {'time_defensive_third': 437.43,\n",
       "   'time_neutral_third': 367.55,\n",
       "   'time_offensive_third': 246.98999,\n",
       "   'time_defensive_half': 617.06,\n",
       "   'time_offensive_half': 434.9,\n",
       "   'time_behind_ball': 778.4,\n",
       "   'time_infront_ball': 273.56},\n",
       "  'demo': {'inflicted': 0, 'taken': 0}}}"
      ]
     },
     "metadata": {},
     "execution_count": 78
    }
   ],
   "source": [
    "first[0][\"blue\"]"
   ]
  },
  {
   "cell_type": "code",
   "execution_count": null,
   "metadata": {},
   "outputs": [],
   "source": []
  }
 ]
}